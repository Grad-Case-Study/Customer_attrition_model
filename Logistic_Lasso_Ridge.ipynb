{
 "cells": [
  {
   "cell_type": "code",
   "execution_count": 8,
   "metadata": {},
   "outputs": [],
   "source": [
    "# libraries\n",
    "\n",
    "import pandas as pd\n",
    "import numpy as np"
   ]
  },
  {
   "cell_type": "code",
   "execution_count": 3,
   "metadata": {},
   "outputs": [],
   "source": [
    "# read the train, validation data\n",
    "\n",
    "X_train=pd.read_csv(\"train/X_train.txt\")\n",
    "y_train=pd.read_csv(\"train/y_train.txt\")\n",
    "\n",
    "X_val_1=pd.read_csv(\"val_1/X_val_1.txt\")\n",
    "y_val_1=pd.read_csv(\"val_1/y_val_1.txt\")\n"
   ]
  },
  {
   "cell_type": "code",
   "execution_count": 4,
   "metadata": {},
   "outputs": [
    {
     "data": {
      "text/plain": [
       "4.761726219489333"
      ]
     },
     "execution_count": 4,
     "metadata": {},
     "output_type": "execute_result"
    }
   ],
   "source": [
    "#Percentage targets in training sample\n",
    "(y_train['target'].sum()/y_train['target'].count())*100"
   ]
  },
  {
   "cell_type": "markdown",
   "metadata": {},
   "source": [
    "### Logistic Regression using Lasso"
   ]
  },
  {
   "cell_type": "code",
   "execution_count": 5,
   "metadata": {},
   "outputs": [
    {
     "data": {
      "text/plain": [
       "LogisticRegression(C=1.0, class_weight=None, dual=False, fit_intercept=True,\n",
       "                   intercept_scaling=1, l1_ratio=None, max_iter=100,\n",
       "                   multi_class='warn', n_jobs=None, penalty='l1',\n",
       "                   random_state=101, solver='liblinear', tol=0.0001, verbose=0,\n",
       "                   warm_start=False)"
      ]
     },
     "execution_count": 5,
     "metadata": {},
     "output_type": "execute_result"
    }
   ],
   "source": [
    "from sklearn.linear_model import LogisticRegression\n",
    "logl1 = LogisticRegression(penalty='l1', solver='liblinear', random_state=101)\n",
    "logl1.fit(X_train, y_train['target'])"
   ]
  },
  {
   "cell_type": "code",
   "execution_count": 16,
   "metadata": {},
   "outputs": [],
   "source": [
    "lasso_train_pred=logl1.predict_proba(X_val_1)\n",
    "lasso_train_pred\n",
    "predicted=[1 if i > 0.06 else 0 for i in lasso_train_pred[:,1]]"
   ]
  },
  {
   "cell_type": "code",
   "execution_count": 17,
   "metadata": {},
   "outputs": [
    {
     "name": "stdout",
     "output_type": "stream",
     "text": [
      "[[198680  60888]\n",
      " [  3944   9035]]\n",
      "              precision    recall  f1-score   support\n",
      "\n",
      "           0       0.98      0.77      0.86    259568\n",
      "           1       0.13      0.70      0.22     12979\n",
      "\n",
      "    accuracy                           0.76    272547\n",
      "   macro avg       0.55      0.73      0.54    272547\n",
      "weighted avg       0.94      0.76      0.83    272547\n",
      "\n",
      "0.762125431576939\n"
     ]
    },
    {
     "data": {
      "text/plain": [
       "0.7307750695499717"
      ]
     },
     "execution_count": 17,
     "metadata": {},
     "output_type": "execute_result"
    }
   ],
   "source": [
    "from sklearn.metrics import classification_report, confusion_matrix, accuracy_score\n",
    "\n",
    "print(confusion_matrix(y_val_1,predicted))\n",
    "print(classification_report(y_val_1,predicted))\n",
    "print(accuracy_score(y_val_1, predicted))\n",
    "\n",
    "from sklearn.metrics import roc_auc_score\n",
    "roc_auc_score(y_val_1,predicted)"
   ]
  },
  {
   "cell_type": "markdown",
   "metadata": {},
   "source": [
    "### Logistic Regression using Ridge"
   ]
  },
  {
   "cell_type": "code",
   "execution_count": 18,
   "metadata": {},
   "outputs": [
    {
     "data": {
      "text/plain": [
       "LogisticRegression(C=1.0, class_weight=None, dual=False, fit_intercept=True,\n",
       "                   intercept_scaling=1, l1_ratio=None, max_iter=100,\n",
       "                   multi_class='warn', n_jobs=None, penalty='l2',\n",
       "                   random_state=101, solver='liblinear', tol=0.0001, verbose=0,\n",
       "                   warm_start=False)"
      ]
     },
     "execution_count": 18,
     "metadata": {},
     "output_type": "execute_result"
    }
   ],
   "source": [
    "#from sklearn.linear_model import LogisticRegression\n",
    "logl2 = LogisticRegression(penalty='l2', solver='liblinear', random_state=101)\n",
    "logl2.fit(X_train, y_train['target'])"
   ]
  },
  {
   "cell_type": "code",
   "execution_count": 19,
   "metadata": {},
   "outputs": [],
   "source": [
    "ridge_train_pred=logl2.predict_proba(X_val_1)\n",
    "predicted=[1 if i > 0.06 else 0 for i in ridge_train_pred[:,1]]"
   ]
  },
  {
   "cell_type": "code",
   "execution_count": 20,
   "metadata": {},
   "outputs": [
    {
     "name": "stdout",
     "output_type": "stream",
     "text": [
      "[[181495  78073]\n",
      " [  3676   9303]]\n",
      "              precision    recall  f1-score   support\n",
      "\n",
      "           0       0.98      0.70      0.82    259568\n",
      "           1       0.11      0.72      0.19     12979\n",
      "\n",
      "    accuracy                           0.70    272547\n",
      "   macro avg       0.54      0.71      0.50    272547\n",
      "weighted avg       0.94      0.70      0.79    272547\n",
      "\n",
      "0.7000554032882402\n"
     ]
    },
    {
     "data": {
      "text/plain": [
       "0.7079963607243783"
      ]
     },
     "execution_count": 20,
     "metadata": {},
     "output_type": "execute_result"
    }
   ],
   "source": [
    "#from sklearn.metrics import classification_report, confusion_matrix, accuracy_score\n",
    "\n",
    "print(confusion_matrix(y_val_1,predicted))\n",
    "print(classification_report(y_val_1,predicted))\n",
    "print(accuracy_score(y_val_1, predicted))\n",
    "roc_auc_score(y_val_1,predicted)"
   ]
  },
  {
   "cell_type": "markdown",
   "metadata": {},
   "source": [
    "#### Based on validationa sample results, Lasso performs better in terms of accuracy and has a higher number of correctly predicted targets than Ridge"
   ]
  },
  {
   "cell_type": "markdown",
   "metadata": {},
   "source": [
    "### Logistic Regression with RFE"
   ]
  },
  {
   "cell_type": "code",
   "execution_count": 118,
   "metadata": {},
   "outputs": [
    {
     "name": "stdout",
     "output_type": "stream",
     "text": [
      "[False  True False  True  True False  True  True  True  True  True False\n",
      "  True  True  True False  True False  True  True False False False False\n",
      " False False False False  True  True  True  True  True  True]\n",
      "[ 4  1  8  1  1  5  1  1  1  1  1  2  1  1  1 14  1 15  1  1 13 11 10 12\n",
      "  7  3  6  9  1  1  1  1  1  1]\n"
     ]
    }
   ],
   "source": [
    "#### Recursive Feature Elimination (RFE)\n",
    "\n",
    "from sklearn.feature_selection import RFE\n",
    "#from sklearn.linear_model import LogisticRegression\n",
    "#log = LogisticRegression()\n",
    "rfe = RFE(logl1, 20)\n",
    "rfe = rfe.fit(X_train, y_train['target'])\n",
    "print(rfe.support_)\n",
    "print(rfe.ranking_)"
   ]
  },
  {
   "cell_type": "code",
   "execution_count": 119,
   "metadata": {},
   "outputs": [],
   "source": [
    "c1=rfe.ranking_"
   ]
  },
  {
   "cell_type": "code",
   "execution_count": 120,
   "metadata": {},
   "outputs": [
    {
     "data": {
      "text/plain": [
       "Index(['ACH_IN_MTD_AMT', 'ACH_IN_MTD_QTY', 'ACH_OUT_MTD_AMT',\n",
       "       'ACH_OUT_MTD_QTY', 'CHK_WRITTEN_MTD_QTY', 'DEBIT_CARD_MTD_AMT',\n",
       "       'DEBIT_CARD_MTD_QTY', 'MOBILE_STD_DEP_QTY', '%diff_ACH_IN',\n",
       "       'diff_ACH_IN_QTY', '%diff_ACH_OUT', '%diff_CHECK_WRITTEN',\n",
       "       'diff_CHECK_WRITTEN', '%diff_DEBIT_CARD', 'diff_DEBIT_CARD_QTY',\n",
       "       'CHK_WRITTEN_per_trans', 'inactive_months', 'CONS_LOAN_BAL_AMT',\n",
       "       'CONS_LOAN_WAR_PCT', 'CONS_DEPOSIT_ACCT_QTY', 'CONS_DEPOSIT_BAL_AMT',\n",
       "       'MORTGAGE_BAL_AMT', 'SAVINGS_BAL_AMT', 'CHECKING_BAL_AMT',\n",
       "       'CREDIT_CARD_BAL_AMT', 'LAST_DIRECT_DEPOSIT_AMT', 'AVG_MONTHLY_BAL_AMT',\n",
       "       'LAST_STMT_BAL_AMT', '%diff_AVG_MONTHLY_BAL', '%diff_LAST_STMT_BAL',\n",
       "       'recency', 'DIRECT_DEP_IND_Y', 'ACTIVE_CHK_IND_Y', 'HABITUAL_OD_IND_Y'],\n",
       "      dtype='object')"
      ]
     },
     "execution_count": 120,
     "metadata": {},
     "output_type": "execute_result"
    }
   ],
   "source": [
    "c2=X_train.columns\n",
    "c2"
   ]
  },
  {
   "cell_type": "code",
   "execution_count": 121,
   "metadata": {},
   "outputs": [
    {
     "data": {
      "text/plain": [
       "['ACH_IN_MTD_QTY',\n",
       " 'ACH_OUT_MTD_QTY',\n",
       " 'CHK_WRITTEN_MTD_QTY',\n",
       " 'DEBIT_CARD_MTD_QTY',\n",
       " 'MOBILE_STD_DEP_QTY',\n",
       " '%diff_ACH_IN',\n",
       " 'diff_ACH_IN_QTY',\n",
       " '%diff_ACH_OUT',\n",
       " 'diff_CHECK_WRITTEN',\n",
       " '%diff_DEBIT_CARD',\n",
       " 'diff_DEBIT_CARD_QTY',\n",
       " 'inactive_months',\n",
       " 'CONS_LOAN_WAR_PCT',\n",
       " 'CONS_DEPOSIT_ACCT_QTY',\n",
       " '%diff_AVG_MONTHLY_BAL',\n",
       " '%diff_LAST_STMT_BAL',\n",
       " 'recency',\n",
       " 'DIRECT_DEP_IND_Y',\n",
       " 'ACTIVE_CHK_IND_Y',\n",
       " 'HABITUAL_OD_IND_Y']"
      ]
     },
     "execution_count": 121,
     "metadata": {},
     "output_type": "execute_result"
    }
   ],
   "source": [
    "X_new=[]\n",
    "for i in range(0,len(c1)):\n",
    "    if c1[i]==1:\n",
    "        X_new.append(c2[i])\n",
    "        i=i+1\n",
    "\n",
    "X_new"
   ]
  },
  {
   "cell_type": "code",
   "execution_count": 135,
   "metadata": {},
   "outputs": [
    {
     "data": {
      "text/plain": [
       "(80013, 20)"
      ]
     },
     "execution_count": 135,
     "metadata": {},
     "output_type": "execute_result"
    }
   ],
   "source": [
    "X_ref=X_train[X_new]\n",
    "X_ref.shape"
   ]
  },
  {
   "cell_type": "code",
   "execution_count": 136,
   "metadata": {},
   "outputs": [
    {
     "name": "stdout",
     "output_type": "stream",
     "text": [
      "Optimization terminated successfully.\n",
      "         Current function value: 0.181275\n",
      "         Iterations 9\n",
      "                            Results: Logit\n",
      "======================================================================\n",
      "Model:                 Logit             Pseudo R-squared:  0.053     \n",
      "Dependent Variable:    target            AIC:               29048.7189\n",
      "Date:                  2020-04-13 19:28  BIC:               29234.5178\n",
      "No. Observations:      80013             Log-Likelihood:    -14504.   \n",
      "Df Model:              19                LL-Null:           -15318.   \n",
      "Df Residuals:          79993             LLR p-value:       0.0000    \n",
      "Converged:             1.0000            Scale:             1.0000    \n",
      "No. Iterations:        9.0000                                         \n",
      "----------------------------------------------------------------------\n",
      "                       Coef.  Std.Err.    z     P>|z|   [0.025  0.975]\n",
      "----------------------------------------------------------------------\n",
      "ACH_IN_MTD_QTY        -0.1703   0.0122 -13.9191 0.0000 -0.1943 -0.1463\n",
      "ACH_OUT_MTD_QTY       -0.0472   0.0058  -8.1838 0.0000 -0.0585 -0.0359\n",
      "CHK_WRITTEN_MTD_QTY   -0.1803   0.0105 -17.1703 0.0000 -0.2009 -0.1597\n",
      "DEBIT_CARD_MTD_QTY    -0.0119   0.0010 -12.4024 0.0000 -0.0138 -0.0100\n",
      "MOBILE_STD_DEP_QTY    -0.4069   0.0350 -11.6361 0.0000 -0.4754 -0.3384\n",
      "%diff_ACH_IN          -0.0325   0.0267  -1.2202 0.2224 -0.0848  0.0197\n",
      "diff_ACH_IN_QTY       -0.0973   0.0185  -5.2494 0.0000 -0.1337 -0.0610\n",
      "%diff_ACH_OUT          0.0196   0.0107   1.8358 0.0664 -0.0013  0.0406\n",
      "diff_CHECK_WRITTEN     0.0478   0.0159   3.0111 0.0026  0.0167  0.0789\n",
      "%diff_DEBIT_CARD      -0.0005   0.0105  -0.0519 0.9586 -0.0211  0.0200\n",
      "diff_DEBIT_CARD_QTY   -0.0091   0.0017  -5.4077 0.0000 -0.0125 -0.0058\n",
      "inactive_months       -0.2309   0.0174 -13.2980 0.0000 -0.2649 -0.1969\n",
      "CONS_LOAN_WAR_PCT     -0.0146   0.0029  -5.0570 0.0000 -0.0202 -0.0089\n",
      "CONS_DEPOSIT_ACCT_QTY -0.3207   0.0156 -20.5995 0.0000 -0.3512 -0.2902\n",
      "%diff_AVG_MONTHLY_BAL -0.1067   0.0112  -9.5251 0.0000 -0.1286 -0.0847\n",
      "%diff_LAST_STMT_BAL   -0.0082   0.0028  -2.9190 0.0035 -0.0138 -0.0027\n",
      "recency               -0.0076   0.0002 -36.7646 0.0000 -0.0080 -0.0072\n",
      "DIRECT_DEP_IND_Y      -0.4707   0.0425 -11.0711 0.0000 -0.5540 -0.3874\n",
      "ACTIVE_CHK_IND_Y      -0.5586   0.0413 -13.5209 0.0000 -0.6396 -0.4776\n",
      "HABITUAL_OD_IND_Y      1.0352   0.0404  25.6316 0.0000  0.9560  1.1143\n",
      "======================================================================\n",
      "\n"
     ]
    }
   ],
   "source": [
    "import statsmodels.api as sm\n",
    "\n",
    "logit_model=sm.Logit(y_train['target'],X_ref)\n",
    "result=logit_model.fit()\n",
    "print(result.summary2())"
   ]
  },
  {
   "cell_type": "code",
   "execution_count": 137,
   "metadata": {},
   "outputs": [],
   "source": [
    "# drop variables that are statistically insignificant (p>0.005)\n",
    "# %diff_ACH_IN,%diff_DEBIT_CARD, %diff_ACH_OUT\n",
    "X_ref2=X_ref.drop(['%diff_ACH_IN','%diff_DEBIT_CARD', '%diff_ACH_OUT'], axis=1)"
   ]
  },
  {
   "cell_type": "code",
   "execution_count": 138,
   "metadata": {},
   "outputs": [
    {
     "name": "stdout",
     "output_type": "stream",
     "text": [
      "Optimization terminated successfully.\n",
      "         Current function value: 0.181304\n",
      "         Iterations 9\n",
      "                            Results: Logit\n",
      "======================================================================\n",
      "Model:                 Logit             Pseudo R-squared:  0.053     \n",
      "Dependent Variable:    target            AIC:               29047.4245\n",
      "Date:                  2020-04-13 19:28  BIC:               29205.3535\n",
      "No. Observations:      80013             Log-Likelihood:    -14507.   \n",
      "Df Model:              16                LL-Null:           -15318.   \n",
      "Df Residuals:          79996             LLR p-value:       0.0000    \n",
      "Converged:             1.0000            Scale:             1.0000    \n",
      "No. Iterations:        9.0000                                         \n",
      "----------------------------------------------------------------------\n",
      "                       Coef.  Std.Err.    z     P>|z|   [0.025  0.975]\n",
      "----------------------------------------------------------------------\n",
      "ACH_IN_MTD_QTY        -0.1723   0.0121 -14.2006 0.0000 -0.1961 -0.1486\n",
      "ACH_OUT_MTD_QTY       -0.0458   0.0057  -8.0598 0.0000 -0.0570 -0.0347\n",
      "CHK_WRITTEN_MTD_QTY   -0.1803   0.0105 -17.1719 0.0000 -0.2009 -0.1597\n",
      "DEBIT_CARD_MTD_QTY    -0.0119   0.0010 -12.4266 0.0000 -0.0138 -0.0101\n",
      "MOBILE_STD_DEP_QTY    -0.4070   0.0350 -11.6409 0.0000 -0.4755 -0.3385\n",
      "diff_ACH_IN_QTY       -0.1067   0.0169  -6.3035 0.0000 -0.1399 -0.0735\n",
      "diff_CHECK_WRITTEN     0.0476   0.0159   2.9974 0.0027  0.0165  0.0787\n",
      "diff_DEBIT_CARD_QTY   -0.0092   0.0016  -5.7638 0.0000 -0.0124 -0.0061\n",
      "inactive_months       -0.2311   0.0174 -13.3142 0.0000 -0.2651 -0.1971\n",
      "CONS_LOAN_WAR_PCT     -0.0146   0.0029  -5.0713 0.0000 -0.0203 -0.0090\n",
      "CONS_DEPOSIT_ACCT_QTY -0.3199   0.0156 -20.5730 0.0000 -0.3504 -0.2895\n",
      "%diff_AVG_MONTHLY_BAL -0.1066   0.0112  -9.5498 0.0000 -0.1285 -0.0847\n",
      "%diff_LAST_STMT_BAL   -0.0082   0.0028  -2.8878 0.0039 -0.0137 -0.0026\n",
      "recency               -0.0076   0.0002 -36.7549 0.0000 -0.0080 -0.0072\n",
      "DIRECT_DEP_IND_Y      -0.4693   0.0425 -11.0527 0.0000 -0.5525 -0.3861\n",
      "ACTIVE_CHK_IND_Y      -0.5593   0.0412 -13.5636 0.0000 -0.6401 -0.4784\n",
      "HABITUAL_OD_IND_Y      1.0363   0.0403  25.7004 0.0000  0.9573  1.1153\n",
      "======================================================================\n",
      "\n"
     ]
    }
   ],
   "source": [
    "logit_model2=sm.Logit(y_train['target'],X_ref2)\n",
    "result=logit_model2.fit()\n",
    "print(result.summary2())"
   ]
  },
  {
   "cell_type": "code",
   "execution_count": 126,
   "metadata": {},
   "outputs": [
    {
     "data": {
      "text/plain": [
       "Index(['ACH_IN_MTD_QTY', 'ACH_OUT_MTD_QTY', 'CHK_WRITTEN_MTD_QTY',\n",
       "       'DEBIT_CARD_MTD_QTY', 'MOBILE_STD_DEP_QTY', 'diff_ACH_IN_QTY',\n",
       "       'diff_CHECK_WRITTEN', 'diff_DEBIT_CARD_QTY', 'inactive_months',\n",
       "       'CONS_LOAN_WAR_PCT', 'CONS_DEPOSIT_ACCT_QTY', '%diff_AVG_MONTHLY_BAL',\n",
       "       '%diff_LAST_STMT_BAL', 'recency', 'DIRECT_DEP_IND_Y',\n",
       "       'ACTIVE_CHK_IND_Y', 'HABITUAL_OD_IND_Y'],\n",
       "      dtype='object')"
      ]
     },
     "execution_count": 126,
     "metadata": {},
     "output_type": "execute_result"
    }
   ],
   "source": [
    "X_ref2.columns"
   ]
  },
  {
   "cell_type": "code",
   "execution_count": 127,
   "metadata": {},
   "outputs": [],
   "source": [
    "X_val1_rfe=X_val_1[['ACH_IN_MTD_QTY', 'ACH_OUT_MTD_QTY', 'CHK_WRITTEN_MTD_QTY',\n",
    "       'DEBIT_CARD_MTD_QTY', 'MOBILE_STD_DEP_QTY', 'diff_ACH_IN_QTY',\n",
    "       'diff_CHECK_WRITTEN', 'diff_DEBIT_CARD_QTY', 'inactive_months',\n",
    "       'CONS_LOAN_WAR_PCT', 'CONS_DEPOSIT_ACCT_QTY', '%diff_AVG_MONTHLY_BAL',\n",
    "       '%diff_LAST_STMT_BAL', 'recency', 'DIRECT_DEP_IND_Y',\n",
    "       'ACTIVE_CHK_IND_Y', 'HABITUAL_OD_IND_Y']]"
   ]
  },
  {
   "cell_type": "code",
   "execution_count": 128,
   "metadata": {},
   "outputs": [],
   "source": [
    "logl1.fit(X_ref2, y_train['target'])\n",
    "# predict on validation sample\n",
    "rfe_train_pred=logl1.predict_proba(X_val1_rfe)\n",
    "predicted=[1 if i > 0.04 else 0 for i in rfe_train_pred[:,1]]"
   ]
  },
  {
   "cell_type": "code",
   "execution_count": 81,
   "metadata": {},
   "outputs": [
    {
     "name": "stdout",
     "output_type": "stream",
     "text": [
      "[[165730  93838]\n",
      " [  2797  10182]]\n",
      "              precision    recall  f1-score   support\n",
      "\n",
      "           0       0.98      0.64      0.77    259568\n",
      "           1       0.10      0.78      0.17     12979\n",
      "\n",
      "    accuracy                           0.65    272547\n",
      "   macro avg       0.54      0.71      0.47    272547\n",
      "weighted avg       0.94      0.65      0.75    272547\n",
      "\n",
      "Accuracy\n",
      "0.6454373007224442\n",
      "AUC\n",
      "0.711490988919236\n"
     ]
    }
   ],
   "source": [
    "#from sklearn.metrics import classification_report, confusion_matrix, accuracy_score\n",
    "\n",
    "print(confusion_matrix(y_val_1,predicted))\n",
    "print(classification_report(y_val_1,predicted))\n",
    "print('Accuracy')\n",
    "print(accuracy_score(y_val_1, predicted))\n",
    "print('AUC')\n",
    "print(roc_auc_score(y_val_1, predicted))"
   ]
  },
  {
   "cell_type": "markdown",
   "metadata": {},
   "source": [
    "#### l1 and l2 give comparable accuracy/recall"
   ]
  },
  {
   "cell_type": "code",
   "execution_count": 129,
   "metadata": {},
   "outputs": [],
   "source": [
    "# test data\n",
    "X_y_test=pd.read_csv(\"test/X_y_test.txt\")\n",
    "X_test=X_y_test[['ACH_IN_MTD_QTY', 'ACH_OUT_MTD_QTY', 'CHK_WRITTEN_MTD_QTY',\n",
    "       'DEBIT_CARD_MTD_QTY', 'MOBILE_STD_DEP_QTY', 'diff_ACH_IN_QTY',\n",
    "       'diff_CHECK_WRITTEN', 'diff_DEBIT_CARD_QTY', 'inactive_months',\n",
    "       'CONS_LOAN_WAR_PCT', 'CONS_DEPOSIT_ACCT_QTY', '%diff_AVG_MONTHLY_BAL',\n",
    "       '%diff_LAST_STMT_BAL', 'recency', 'DIRECT_DEP_IND_Y',\n",
    "       'ACTIVE_CHK_IND_Y', 'HABITUAL_OD_IND_Y']]\n",
    "y_test=X_y_test[['target']]"
   ]
  },
  {
   "cell_type": "code",
   "execution_count": 130,
   "metadata": {},
   "outputs": [],
   "source": [
    "rfe_test_pred=logl1.predict_proba(X_test)\n",
    "predicted=[1 if i > 0.05 else 0 for i in rfe_test_pred[:,1]]"
   ]
  },
  {
   "cell_type": "code",
   "execution_count": 131,
   "metadata": {},
   "outputs": [
    {
     "name": "stdout",
     "output_type": "stream",
     "text": [
      "[[529018 212997]\n",
      " [  2488   6446]]\n",
      "              precision    recall  f1-score   support\n",
      "\n",
      "           0       1.00      0.71      0.83    742015\n",
      "           1       0.03      0.72      0.06      8934\n",
      "\n",
      "    accuracy                           0.71    750949\n",
      "   macro avg       0.51      0.72      0.44    750949\n",
      "weighted avg       0.98      0.71      0.82    750949\n",
      "\n",
      "Accuracy\n",
      "0.7130497543774611\n",
      "AUC\n",
      "0.7172305856800142\n"
     ]
    }
   ],
   "source": [
    "print(confusion_matrix(y_test,predicted))\n",
    "print(classification_report(y_test,predicted))\n",
    "print('Accuracy')\n",
    "print(accuracy_score(y_test, predicted))\n",
    "print('AUC')\n",
    "print(roc_auc_score(y_test, predicted))"
   ]
  },
  {
   "cell_type": "markdown",
   "metadata": {},
   "source": [
    "### 15, 10 variables for RFE (using lasso)"
   ]
  },
  {
   "cell_type": "code",
   "execution_count": 100,
   "metadata": {},
   "outputs": [
    {
     "name": "stdout",
     "output_type": "stream",
     "text": [
      "[False  True False  True  True False False  True  True  True False False\n",
      " False False False False False False False False False False False False\n",
      " False False False False  True False False  True  True  True]\n",
      "[14  1 18  1  1 15  9  1  1  1  3 12  4  5  6 24  2 25  8  7 23 21 20 22\n",
      " 17 13 16 19  1 11 10  1  1  1]\n"
     ]
    }
   ],
   "source": [
    "#### Recursive Feature Elimination (RFE)\n",
    "\n",
    "#from sklearn.feature_selection import RFE\n",
    "#from sklearn.linear_model import LogisticRegression\n",
    "#log = LogisticRegression()\n",
    "rfe = RFE(logl1, 10)\n",
    "rfe = rfe.fit(X_train, y_train['target'])\n",
    "print(rfe.support_)\n",
    "print(rfe.ranking_)"
   ]
  },
  {
   "cell_type": "code",
   "execution_count": 101,
   "metadata": {},
   "outputs": [],
   "source": [
    "c1=rfe.ranking_"
   ]
  },
  {
   "cell_type": "code",
   "execution_count": 102,
   "metadata": {},
   "outputs": [
    {
     "data": {
      "text/plain": [
       "Index(['ACH_IN_MTD_AMT', 'ACH_IN_MTD_QTY', 'ACH_OUT_MTD_AMT',\n",
       "       'ACH_OUT_MTD_QTY', 'CHK_WRITTEN_MTD_QTY', 'DEBIT_CARD_MTD_AMT',\n",
       "       'DEBIT_CARD_MTD_QTY', 'MOBILE_STD_DEP_QTY', '%diff_ACH_IN',\n",
       "       'diff_ACH_IN_QTY', '%diff_ACH_OUT', '%diff_CHECK_WRITTEN',\n",
       "       'diff_CHECK_WRITTEN', '%diff_DEBIT_CARD', 'diff_DEBIT_CARD_QTY',\n",
       "       'CHK_WRITTEN_per_trans', 'inactive_months', 'CONS_LOAN_BAL_AMT',\n",
       "       'CONS_LOAN_WAR_PCT', 'CONS_DEPOSIT_ACCT_QTY', 'CONS_DEPOSIT_BAL_AMT',\n",
       "       'MORTGAGE_BAL_AMT', 'SAVINGS_BAL_AMT', 'CHECKING_BAL_AMT',\n",
       "       'CREDIT_CARD_BAL_AMT', 'LAST_DIRECT_DEPOSIT_AMT', 'AVG_MONTHLY_BAL_AMT',\n",
       "       'LAST_STMT_BAL_AMT', '%diff_AVG_MONTHLY_BAL', '%diff_LAST_STMT_BAL',\n",
       "       'recency', 'DIRECT_DEP_IND_Y', 'ACTIVE_CHK_IND_Y', 'HABITUAL_OD_IND_Y'],\n",
       "      dtype='object')"
      ]
     },
     "execution_count": 102,
     "metadata": {},
     "output_type": "execute_result"
    }
   ],
   "source": [
    "c2=X_train.columns\n",
    "c2"
   ]
  },
  {
   "cell_type": "code",
   "execution_count": 103,
   "metadata": {},
   "outputs": [
    {
     "data": {
      "text/plain": [
       "['ACH_IN_MTD_QTY',\n",
       " 'ACH_OUT_MTD_QTY',\n",
       " 'CHK_WRITTEN_MTD_QTY',\n",
       " 'MOBILE_STD_DEP_QTY',\n",
       " '%diff_ACH_IN',\n",
       " 'diff_ACH_IN_QTY',\n",
       " '%diff_AVG_MONTHLY_BAL',\n",
       " 'DIRECT_DEP_IND_Y',\n",
       " 'ACTIVE_CHK_IND_Y',\n",
       " 'HABITUAL_OD_IND_Y']"
      ]
     },
     "execution_count": 103,
     "metadata": {},
     "output_type": "execute_result"
    }
   ],
   "source": [
    "X_new=[]\n",
    "for i in range(0,len(c1)):\n",
    "    if c1[i]==1:\n",
    "        X_new.append(c2[i])\n",
    "        i=i+1\n",
    "\n",
    "X_new"
   ]
  },
  {
   "cell_type": "code",
   "execution_count": 104,
   "metadata": {},
   "outputs": [
    {
     "data": {
      "text/plain": [
       "(80013, 10)"
      ]
     },
     "execution_count": 104,
     "metadata": {},
     "output_type": "execute_result"
    }
   ],
   "source": [
    "X_ref=X_train[X_new]\n",
    "X_ref.shape"
   ]
  },
  {
   "cell_type": "code",
   "execution_count": 105,
   "metadata": {},
   "outputs": [
    {
     "name": "stdout",
     "output_type": "stream",
     "text": [
      "Optimization terminated successfully.\n",
      "         Current function value: 0.214417\n",
      "         Iterations 9\n",
      "                            Results: Logit\n",
      "======================================================================\n",
      "Model:                 Logit             Pseudo R-squared:  -0.120    \n",
      "Dependent Variable:    target            AIC:               34332.3168\n",
      "Date:                  2020-04-13 17:45  BIC:               34425.2163\n",
      "No. Observations:      80013             Log-Likelihood:    -17156.   \n",
      "Df Model:              9                 LL-Null:           -15318.   \n",
      "Df Residuals:          80003             LLR p-value:       1.0000    \n",
      "Converged:             1.0000            Scale:             1.0000    \n",
      "No. Iterations:        9.0000                                         \n",
      "----------------------------------------------------------------------\n",
      "                       Coef.  Std.Err.    z     P>|z|   [0.025  0.975]\n",
      "----------------------------------------------------------------------\n",
      "ACH_IN_MTD_QTY        -0.2088   0.0123 -16.9133 0.0000 -0.2329 -0.1846\n",
      "ACH_OUT_MTD_QTY       -0.1305   0.0068 -19.2980 0.0000 -0.1437 -0.1172\n",
      "CHK_WRITTEN_MTD_QTY   -0.4082   0.0138 -29.6566 0.0000 -0.4351 -0.3812\n",
      "MOBILE_STD_DEP_QTY    -0.7556   0.0400 -18.8975 0.0000 -0.8340 -0.6772\n",
      "%diff_ACH_IN           0.0095   0.0243   0.3922 0.6949 -0.0380  0.0571\n",
      "diff_ACH_IN_QTY       -0.1133   0.0184  -6.1585 0.0000 -0.1494 -0.0772\n",
      "%diff_AVG_MONTHLY_BAL -0.1551   0.0106 -14.6599 0.0000 -0.1758 -0.1344\n",
      "DIRECT_DEP_IND_Y      -0.8443   0.0388 -21.7604 0.0000 -0.9204 -0.7683\n",
      "ACTIVE_CHK_IND_Y      -1.6394   0.0300 -54.6465 0.0000 -1.6982 -1.5806\n",
      "HABITUAL_OD_IND_Y      0.9801   0.0399  24.5404 0.0000  0.9019  1.0584\n",
      "======================================================================\n",
      "\n"
     ]
    }
   ],
   "source": [
    "import statsmodels.api as sm\n",
    "\n",
    "logit_model=sm.Logit(y_train['target'],X_ref)\n",
    "result=logit_model.fit()\n",
    "print(result.summary2())"
   ]
  },
  {
   "cell_type": "code",
   "execution_count": 106,
   "metadata": {},
   "outputs": [
    {
     "name": "stdout",
     "output_type": "stream",
     "text": [
      "Optimization terminated successfully.\n",
      "         Current function value: 0.214418\n",
      "         Iterations 9\n",
      "                            Results: Logit\n",
      "======================================================================\n",
      "Model:                 Logit             Pseudo R-squared:  -0.120    \n",
      "Dependent Variable:    target            AIC:               34330.4694\n",
      "Date:                  2020-04-13 17:45  BIC:               34414.0789\n",
      "No. Observations:      80013             Log-Likelihood:    -17156.   \n",
      "Df Model:              8                 LL-Null:           -15318.   \n",
      "Df Residuals:          80004             LLR p-value:       1.0000    \n",
      "Converged:             1.0000            Scale:             1.0000    \n",
      "No. Iterations:        9.0000                                         \n",
      "----------------------------------------------------------------------\n",
      "                       Coef.  Std.Err.    z     P>|z|   [0.025  0.975]\n",
      "----------------------------------------------------------------------\n",
      "ACH_IN_MTD_QTY        -0.2080   0.0122 -17.0549 0.0000 -0.2320 -0.1841\n",
      "ACH_OUT_MTD_QTY       -0.1305   0.0068 -19.2981 0.0000 -0.1437 -0.1172\n",
      "CHK_WRITTEN_MTD_QTY   -0.4082   0.0138 -29.6616 0.0000 -0.4352 -0.3812\n",
      "MOBILE_STD_DEP_QTY    -0.7557   0.0400 -18.8989 0.0000 -0.8340 -0.6773\n",
      "diff_ACH_IN_QTY       -0.1104   0.0168  -6.5561 0.0000 -0.1434 -0.0774\n",
      "%diff_AVG_MONTHLY_BAL -0.1550   0.0106 -14.6589 0.0000 -0.1757 -0.1342\n",
      "DIRECT_DEP_IND_Y      -0.8448   0.0388 -21.7833 0.0000 -0.9209 -0.7688\n",
      "ACTIVE_CHK_IND_Y      -1.6394   0.0300 -54.6484 0.0000 -1.6982 -1.5806\n",
      "HABITUAL_OD_IND_Y      0.9802   0.0399  24.5413 0.0000  0.9019  1.0585\n",
      "======================================================================\n",
      "\n"
     ]
    }
   ],
   "source": [
    "X_ref2=X_ref.drop(['%diff_ACH_IN'], axis=1)\n",
    "logit_model2=sm.Logit(y_train['target'],X_ref2)\n",
    "result=logit_model2.fit()\n",
    "print(result.summary2())"
   ]
  },
  {
   "cell_type": "code",
   "execution_count": 107,
   "metadata": {},
   "outputs": [
    {
     "data": {
      "text/plain": [
       "Index(['ACH_IN_MTD_QTY', 'ACH_OUT_MTD_QTY', 'CHK_WRITTEN_MTD_QTY',\n",
       "       'MOBILE_STD_DEP_QTY', 'diff_ACH_IN_QTY', '%diff_AVG_MONTHLY_BAL',\n",
       "       'DIRECT_DEP_IND_Y', 'ACTIVE_CHK_IND_Y', 'HABITUAL_OD_IND_Y'],\n",
       "      dtype='object')"
      ]
     },
     "execution_count": 107,
     "metadata": {},
     "output_type": "execute_result"
    }
   ],
   "source": [
    "X_ref2.columns"
   ]
  },
  {
   "cell_type": "code",
   "execution_count": 108,
   "metadata": {},
   "outputs": [],
   "source": [
    "X_val1_rfe=X_val_1[['ACH_IN_MTD_QTY', 'ACH_OUT_MTD_QTY', 'CHK_WRITTEN_MTD_QTY',\n",
    "       'MOBILE_STD_DEP_QTY', 'diff_ACH_IN_QTY', '%diff_AVG_MONTHLY_BAL',\n",
    "       'DIRECT_DEP_IND_Y', 'ACTIVE_CHK_IND_Y', 'HABITUAL_OD_IND_Y']]"
   ]
  },
  {
   "cell_type": "code",
   "execution_count": 109,
   "metadata": {},
   "outputs": [],
   "source": [
    "logl1.fit(X_ref2, y_train['target'])\n",
    "# predict on validation sample\n",
    "rfe_train_pred=logl1.predict_proba(X_val1_rfe)\n",
    "predicted=[1 if i > 0.05 else 0 for i in rfe_train_pred[:,1]]"
   ]
  },
  {
   "cell_type": "code",
   "execution_count": 110,
   "metadata": {},
   "outputs": [
    {
     "name": "stdout",
     "output_type": "stream",
     "text": [
      "[[184053  75515]\n",
      " [  3785   9194]]\n",
      "              precision    recall  f1-score   support\n",
      "\n",
      "           0       0.98      0.71      0.82    259568\n",
      "           1       0.11      0.71      0.19     12979\n",
      "\n",
      "    accuracy                           0.71    272547\n",
      "   macro avg       0.54      0.71      0.51    272547\n",
      "weighted avg       0.94      0.71      0.79    272547\n",
      "\n",
      "Accuracy\n",
      "0.7090410094405736\n",
      "AUC\n",
      "0.7087246877488577\n"
     ]
    }
   ],
   "source": [
    "#from sklearn.metrics import classification_report, confusion_matrix, accuracy_score\n",
    "\n",
    "print(confusion_matrix(y_val_1,predicted))\n",
    "print(classification_report(y_val_1,predicted))\n",
    "print('Accuracy')\n",
    "print(accuracy_score(y_val_1, predicted))\n",
    "print('AUC')\n",
    "print(roc_auc_score(y_val_1, predicted))"
   ]
  },
  {
   "cell_type": "code",
   "execution_count": 111,
   "metadata": {},
   "outputs": [],
   "source": [
    "# test data\n",
    "#X_y_test=pd.read_csv(\"test/X_y_test.txt\")\n",
    "X_test=X_y_test[['ACH_IN_MTD_QTY', 'ACH_OUT_MTD_QTY', 'CHK_WRITTEN_MTD_QTY',\n",
    "       'MOBILE_STD_DEP_QTY', 'diff_ACH_IN_QTY', '%diff_AVG_MONTHLY_BAL',\n",
    "       'DIRECT_DEP_IND_Y', 'ACTIVE_CHK_IND_Y', 'HABITUAL_OD_IND_Y']]\n",
    "y_test=X_y_test[['target']]"
   ]
  },
  {
   "cell_type": "code",
   "execution_count": 112,
   "metadata": {},
   "outputs": [],
   "source": [
    "# predict on test sample\n",
    "rfe_test_pred=logl1.predict_proba(X_test)\n",
    "predicted=[1 if i > 0.05 else 0 for i in rfe_test_pred[:,1]]"
   ]
  },
  {
   "cell_type": "code",
   "execution_count": 113,
   "metadata": {},
   "outputs": [
    {
     "name": "stdout",
     "output_type": "stream",
     "text": [
      "[[525543 216472]\n",
      " [  2622   6312]]\n",
      "              precision    recall  f1-score   support\n",
      "\n",
      "           0       1.00      0.71      0.83    742015\n",
      "           1       0.03      0.71      0.05      8934\n",
      "\n",
      "    accuracy                           0.71    750949\n",
      "   macro avg       0.51      0.71      0.44    750949\n",
      "weighted avg       0.98      0.71      0.82    750949\n",
      "\n",
      "Accuracy\n",
      "0.708243835466856\n",
      "AUC\n",
      "0.7073895484717532\n"
     ]
    }
   ],
   "source": [
    "print(confusion_matrix(y_test,predicted))\n",
    "print(classification_report(y_test,predicted))\n",
    "print('Accuracy')\n",
    "print(accuracy_score(y_test, predicted))\n",
    "print('AUC')\n",
    "print(roc_auc_score(y_test, predicted))"
   ]
  }
 ],
 "metadata": {
  "kernelspec": {
   "display_name": "Python 3",
   "language": "python",
   "name": "python3"
  },
  "language_info": {
   "codemirror_mode": {
    "name": "ipython",
    "version": 3
   },
   "file_extension": ".py",
   "mimetype": "text/x-python",
   "name": "python",
   "nbconvert_exporter": "python",
   "pygments_lexer": "ipython3",
   "version": "3.7.4"
  }
 },
 "nbformat": 4,
 "nbformat_minor": 2
}
