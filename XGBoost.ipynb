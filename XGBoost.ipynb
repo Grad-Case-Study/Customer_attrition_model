{
 "cells": [
  {
   "cell_type": "markdown",
   "metadata": {
    "toc": true
   },
   "source": [
    "<h1>Table of Contents<span class=\"tocSkip\"></span></h1>\n",
    "<div class=\"toc\"><ul class=\"toc-item\"></ul></div>"
   ]
  },
  {
   "cell_type": "code",
   "execution_count": 1,
   "metadata": {},
   "outputs": [],
   "source": [
    "import pandas as pd\n",
    "import numpy as np\n",
    "import seaborn as sns\n",
    "import matplotlib.pyplot as plt\n",
    "from sklearn.linear_model import LogisticRegression\n",
    "from sklearn.model_selection import train_test_split\n",
    "from sklearn.metrics import confusion_matrix\n",
    "from xgboost import XGBClassifier\n",
    "from sklearn.metrics import accuracy_score\n",
    "from sklearn.metrics import confusion_matrix, f1_score, precision_recall_curve\n",
    "from sklearn.model_selection import GridSearchCV, train_test_split,cross_val_score\n",
    "import random\n",
    "import scipy.stats as stats\n",
    "from scipy.stats import chi2_contingency\n",
    "import sklearn.metrics as metrics\n",
    "from IPython.display import Image\n",
    "from sklearn.linear_model import Lasso\n",
    "from sklearn.tree import DecisionTreeClassifier\n",
    "from sklearn.model_selection import cross_val_score\n",
    "from sklearn.metrics import make_scorer\n",
    "import statsmodels.api as sm\n",
    "import statsmodels.formula.api as smf\n",
    "import warnings\n",
    "warnings.filterwarnings('ignore')\n",
    "random.seed(13261058)\n",
    "from sklearn.linear_model import Lasso\n",
    "from sklearn.feature_selection import SelectFromModel\n",
    "from sklearn.metrics import classification_report, confusion_matrix, accuracy_score"
   ]
  },
  {
   "cell_type": "code",
   "execution_count": 2,
   "metadata": {},
   "outputs": [],
   "source": [
    "X_train = pd.read_table(\"X_train.txt\",sep=',');"
   ]
  },
  {
   "cell_type": "code",
   "execution_count": 3,
   "metadata": {},
   "outputs": [
    {
     "data": {
      "text/html": [
       "<div>\n",
       "<style scoped>\n",
       "    .dataframe tbody tr th:only-of-type {\n",
       "        vertical-align: middle;\n",
       "    }\n",
       "\n",
       "    .dataframe tbody tr th {\n",
       "        vertical-align: top;\n",
       "    }\n",
       "\n",
       "    .dataframe thead th {\n",
       "        text-align: right;\n",
       "    }\n",
       "</style>\n",
       "<table border=\"1\" class=\"dataframe\">\n",
       "  <thead>\n",
       "    <tr style=\"text-align: right;\">\n",
       "      <th></th>\n",
       "      <th>ACH_IN_MTD_AMT</th>\n",
       "      <th>ACH_IN_MTD_QTY</th>\n",
       "      <th>ACH_OUT_MTD_AMT</th>\n",
       "      <th>ACH_OUT_MTD_QTY</th>\n",
       "      <th>CHK_WRITTEN_MTD_QTY</th>\n",
       "      <th>DEBIT_CARD_MTD_AMT</th>\n",
       "      <th>DEBIT_CARD_MTD_QTY</th>\n",
       "      <th>MOBILE_STD_DEP_QTY</th>\n",
       "      <th>%diff_ACH_IN</th>\n",
       "      <th>diff_ACH_IN_QTY</th>\n",
       "      <th>...</th>\n",
       "      <th>CREDIT_CARD_BAL_AMT</th>\n",
       "      <th>LAST_DIRECT_DEPOSIT_AMT</th>\n",
       "      <th>AVG_MONTHLY_BAL_AMT</th>\n",
       "      <th>LAST_STMT_BAL_AMT</th>\n",
       "      <th>%diff_AVG_MONTHLY_BAL</th>\n",
       "      <th>%diff_LAST_STMT_BAL</th>\n",
       "      <th>recency</th>\n",
       "      <th>DIRECT_DEP_IND_Y</th>\n",
       "      <th>ACTIVE_CHK_IND_Y</th>\n",
       "      <th>HABITUAL_OD_IND_Y</th>\n",
       "    </tr>\n",
       "  </thead>\n",
       "  <tbody>\n",
       "    <tr>\n",
       "      <th>0</th>\n",
       "      <td>0.0000</td>\n",
       "      <td>0.0</td>\n",
       "      <td>247.85</td>\n",
       "      <td>2.0</td>\n",
       "      <td>0.0</td>\n",
       "      <td>0.0000</td>\n",
       "      <td>0.0</td>\n",
       "      <td>0.0</td>\n",
       "      <td>0.000000</td>\n",
       "      <td>0.0</td>\n",
       "      <td>...</td>\n",
       "      <td>0.0</td>\n",
       "      <td>0.0</td>\n",
       "      <td>25.0</td>\n",
       "      <td>5.0</td>\n",
       "      <td>-0.444444</td>\n",
       "      <td>-0.833333</td>\n",
       "      <td>7</td>\n",
       "      <td>0</td>\n",
       "      <td>0</td>\n",
       "      <td>0</td>\n",
       "    </tr>\n",
       "    <tr>\n",
       "      <th>1</th>\n",
       "      <td>2157.4200</td>\n",
       "      <td>2.0</td>\n",
       "      <td>0.00</td>\n",
       "      <td>0.0</td>\n",
       "      <td>0.0</td>\n",
       "      <td>740.8600</td>\n",
       "      <td>14.0</td>\n",
       "      <td>0.0</td>\n",
       "      <td>-0.194313</td>\n",
       "      <td>-1.0</td>\n",
       "      <td>...</td>\n",
       "      <td>0.0</td>\n",
       "      <td>1240.0</td>\n",
       "      <td>2098.0</td>\n",
       "      <td>2602.0</td>\n",
       "      <td>-0.243419</td>\n",
       "      <td>0.044141</td>\n",
       "      <td>131</td>\n",
       "      <td>1</td>\n",
       "      <td>1</td>\n",
       "      <td>0</td>\n",
       "    </tr>\n",
       "    <tr>\n",
       "      <th>2</th>\n",
       "      <td>15476.1000</td>\n",
       "      <td>7.0</td>\n",
       "      <td>2622.80</td>\n",
       "      <td>6.0</td>\n",
       "      <td>3.0</td>\n",
       "      <td>5690.3753</td>\n",
       "      <td>125.0</td>\n",
       "      <td>0.0</td>\n",
       "      <td>0.752569</td>\n",
       "      <td>1.0</td>\n",
       "      <td>...</td>\n",
       "      <td>2486.0</td>\n",
       "      <td>3006.0</td>\n",
       "      <td>16348.0</td>\n",
       "      <td>21006.0</td>\n",
       "      <td>-0.264001</td>\n",
       "      <td>-0.318872</td>\n",
       "      <td>174</td>\n",
       "      <td>1</td>\n",
       "      <td>1</td>\n",
       "      <td>0</td>\n",
       "    </tr>\n",
       "    <tr>\n",
       "      <th>3</th>\n",
       "      <td>35569.1269</td>\n",
       "      <td>3.0</td>\n",
       "      <td>15201.44</td>\n",
       "      <td>17.0</td>\n",
       "      <td>1.0</td>\n",
       "      <td>0.0000</td>\n",
       "      <td>0.0</td>\n",
       "      <td>0.0</td>\n",
       "      <td>0.422348</td>\n",
       "      <td>1.0</td>\n",
       "      <td>...</td>\n",
       "      <td>0.0</td>\n",
       "      <td>14267.0</td>\n",
       "      <td>50780.0</td>\n",
       "      <td>21327.0</td>\n",
       "      <td>0.213816</td>\n",
       "      <td>1.666542</td>\n",
       "      <td>193</td>\n",
       "      <td>1</td>\n",
       "      <td>1</td>\n",
       "      <td>0</td>\n",
       "    </tr>\n",
       "    <tr>\n",
       "      <th>4</th>\n",
       "      <td>1916.7100</td>\n",
       "      <td>3.0</td>\n",
       "      <td>0.00</td>\n",
       "      <td>0.0</td>\n",
       "      <td>0.0</td>\n",
       "      <td>0.0000</td>\n",
       "      <td>0.0</td>\n",
       "      <td>0.0</td>\n",
       "      <td>0.342413</td>\n",
       "      <td>1.0</td>\n",
       "      <td>...</td>\n",
       "      <td>0.0</td>\n",
       "      <td>742.0</td>\n",
       "      <td>138.0</td>\n",
       "      <td>-6.0</td>\n",
       "      <td>-0.158537</td>\n",
       "      <td>-1.206897</td>\n",
       "      <td>94</td>\n",
       "      <td>1</td>\n",
       "      <td>1</td>\n",
       "      <td>0</td>\n",
       "    </tr>\n",
       "  </tbody>\n",
       "</table>\n",
       "<p>5 rows × 34 columns</p>\n",
       "</div>"
      ],
      "text/plain": [
       "   ACH_IN_MTD_AMT  ACH_IN_MTD_QTY  ACH_OUT_MTD_AMT  ACH_OUT_MTD_QTY  \\\n",
       "0          0.0000             0.0           247.85              2.0   \n",
       "1       2157.4200             2.0             0.00              0.0   \n",
       "2      15476.1000             7.0          2622.80              6.0   \n",
       "3      35569.1269             3.0         15201.44             17.0   \n",
       "4       1916.7100             3.0             0.00              0.0   \n",
       "\n",
       "   CHK_WRITTEN_MTD_QTY  DEBIT_CARD_MTD_AMT  DEBIT_CARD_MTD_QTY  \\\n",
       "0                  0.0              0.0000                 0.0   \n",
       "1                  0.0            740.8600                14.0   \n",
       "2                  3.0           5690.3753               125.0   \n",
       "3                  1.0              0.0000                 0.0   \n",
       "4                  0.0              0.0000                 0.0   \n",
       "\n",
       "   MOBILE_STD_DEP_QTY  %diff_ACH_IN  diff_ACH_IN_QTY  ...  \\\n",
       "0                 0.0      0.000000              0.0  ...   \n",
       "1                 0.0     -0.194313             -1.0  ...   \n",
       "2                 0.0      0.752569              1.0  ...   \n",
       "3                 0.0      0.422348              1.0  ...   \n",
       "4                 0.0      0.342413              1.0  ...   \n",
       "\n",
       "   CREDIT_CARD_BAL_AMT  LAST_DIRECT_DEPOSIT_AMT  AVG_MONTHLY_BAL_AMT  \\\n",
       "0                  0.0                      0.0                 25.0   \n",
       "1                  0.0                   1240.0               2098.0   \n",
       "2               2486.0                   3006.0              16348.0   \n",
       "3                  0.0                  14267.0              50780.0   \n",
       "4                  0.0                    742.0                138.0   \n",
       "\n",
       "   LAST_STMT_BAL_AMT  %diff_AVG_MONTHLY_BAL  %diff_LAST_STMT_BAL  recency  \\\n",
       "0                5.0              -0.444444            -0.833333        7   \n",
       "1             2602.0              -0.243419             0.044141      131   \n",
       "2            21006.0              -0.264001            -0.318872      174   \n",
       "3            21327.0               0.213816             1.666542      193   \n",
       "4               -6.0              -0.158537            -1.206897       94   \n",
       "\n",
       "   DIRECT_DEP_IND_Y  ACTIVE_CHK_IND_Y  HABITUAL_OD_IND_Y  \n",
       "0                 0                 0                  0  \n",
       "1                 1                 1                  0  \n",
       "2                 1                 1                  0  \n",
       "3                 1                 1                  0  \n",
       "4                 1                 1                  0  \n",
       "\n",
       "[5 rows x 34 columns]"
      ]
     },
     "execution_count": 3,
     "metadata": {},
     "output_type": "execute_result"
    }
   ],
   "source": [
    "X_train.head()"
   ]
  },
  {
   "cell_type": "code",
   "execution_count": 4,
   "metadata": {},
   "outputs": [
    {
     "data": {
      "text/plain": [
       "(80013, 34)"
      ]
     },
     "execution_count": 4,
     "metadata": {},
     "output_type": "execute_result"
    }
   ],
   "source": [
    "X_train.shape"
   ]
  },
  {
   "cell_type": "code",
   "execution_count": 5,
   "metadata": {},
   "outputs": [
    {
     "data": {
      "text/plain": [
       "Index(['ACH_IN_MTD_AMT', 'ACH_IN_MTD_QTY', 'ACH_OUT_MTD_AMT',\n",
       "       'ACH_OUT_MTD_QTY', 'CHK_WRITTEN_MTD_QTY', 'DEBIT_CARD_MTD_AMT',\n",
       "       'DEBIT_CARD_MTD_QTY', 'MOBILE_STD_DEP_QTY', '%diff_ACH_IN',\n",
       "       'diff_ACH_IN_QTY', '%diff_ACH_OUT', '%diff_CHECK_WRITTEN',\n",
       "       'diff_CHECK_WRITTEN', '%diff_DEBIT_CARD', 'diff_DEBIT_CARD_QTY',\n",
       "       'CHK_WRITTEN_per_trans', 'inactive_months', 'CONS_LOAN_BAL_AMT',\n",
       "       'CONS_LOAN_WAR_PCT', 'CONS_DEPOSIT_ACCT_QTY', 'CONS_DEPOSIT_BAL_AMT',\n",
       "       'MORTGAGE_BAL_AMT', 'SAVINGS_BAL_AMT', 'CHECKING_BAL_AMT',\n",
       "       'CREDIT_CARD_BAL_AMT', 'LAST_DIRECT_DEPOSIT_AMT', 'AVG_MONTHLY_BAL_AMT',\n",
       "       'LAST_STMT_BAL_AMT', '%diff_AVG_MONTHLY_BAL', '%diff_LAST_STMT_BAL',\n",
       "       'recency', 'DIRECT_DEP_IND_Y', 'ACTIVE_CHK_IND_Y', 'HABITUAL_OD_IND_Y'],\n",
       "      dtype='object')"
      ]
     },
     "execution_count": 5,
     "metadata": {},
     "output_type": "execute_result"
    }
   ],
   "source": [
    "X_train.columns"
   ]
  },
  {
   "cell_type": "code",
   "execution_count": 6,
   "metadata": {},
   "outputs": [],
   "source": [
    "x_val_1 = pd.read_table('X_val_1.txt',sep=',')\n",
    "y_val_1 = pd.read_table('Y_val_1.txt',sep=',')"
   ]
  },
  {
   "cell_type": "code",
   "execution_count": 7,
   "metadata": {},
   "outputs": [
    {
     "data": {
      "text/plain": [
       "(272547, 34)"
      ]
     },
     "execution_count": 7,
     "metadata": {},
     "output_type": "execute_result"
    }
   ],
   "source": [
    "x_val_1.shape"
   ]
  },
  {
   "cell_type": "code",
   "execution_count": 8,
   "metadata": {},
   "outputs": [
    {
     "data": {
      "text/plain": [
       "Index(['ACH_IN_MTD_AMT', 'ACH_IN_MTD_QTY', 'ACH_OUT_MTD_AMT',\n",
       "       'ACH_OUT_MTD_QTY', 'CHK_WRITTEN_MTD_QTY', 'DEBIT_CARD_MTD_AMT',\n",
       "       'DEBIT_CARD_MTD_QTY', 'MOBILE_STD_DEP_QTY', '%diff_ACH_IN',\n",
       "       'diff_ACH_IN_QTY', '%diff_ACH_OUT', '%diff_CHECK_WRITTEN',\n",
       "       'diff_CHECK_WRITTEN', '%diff_DEBIT_CARD', 'diff_DEBIT_CARD_QTY',\n",
       "       'CHK_WRITTEN_per_trans', 'inactive_months', 'CONS_LOAN_BAL_AMT',\n",
       "       'CONS_LOAN_WAR_PCT', 'CONS_DEPOSIT_ACCT_QTY', 'CONS_DEPOSIT_BAL_AMT',\n",
       "       'MORTGAGE_BAL_AMT', 'SAVINGS_BAL_AMT', 'CHECKING_BAL_AMT',\n",
       "       'CREDIT_CARD_BAL_AMT', 'LAST_DIRECT_DEPOSIT_AMT', 'AVG_MONTHLY_BAL_AMT',\n",
       "       'LAST_STMT_BAL_AMT', '%diff_AVG_MONTHLY_BAL', '%diff_LAST_STMT_BAL',\n",
       "       'recency', 'DIRECT_DEP_IND_Y', 'ACTIVE_CHK_IND_Y', 'HABITUAL_OD_IND_Y'],\n",
       "      dtype='object')"
      ]
     },
     "execution_count": 8,
     "metadata": {},
     "output_type": "execute_result"
    }
   ],
   "source": [
    "X_train.columns"
   ]
  },
  {
   "cell_type": "code",
   "execution_count": 9,
   "metadata": {},
   "outputs": [],
   "source": [
    "y_train = pd.read_table(\"Y_train.txt\",sep=',')"
   ]
  },
  {
   "cell_type": "code",
   "execution_count": 10,
   "metadata": {},
   "outputs": [
    {
     "data": {
      "text/html": [
       "<div>\n",
       "<style scoped>\n",
       "    .dataframe tbody tr th:only-of-type {\n",
       "        vertical-align: middle;\n",
       "    }\n",
       "\n",
       "    .dataframe tbody tr th {\n",
       "        vertical-align: top;\n",
       "    }\n",
       "\n",
       "    .dataframe thead th {\n",
       "        text-align: right;\n",
       "    }\n",
       "</style>\n",
       "<table border=\"1\" class=\"dataframe\">\n",
       "  <thead>\n",
       "    <tr style=\"text-align: right;\">\n",
       "      <th></th>\n",
       "      <th>target</th>\n",
       "    </tr>\n",
       "  </thead>\n",
       "  <tbody>\n",
       "    <tr>\n",
       "      <th>0</th>\n",
       "      <td>1</td>\n",
       "    </tr>\n",
       "    <tr>\n",
       "      <th>1</th>\n",
       "      <td>0</td>\n",
       "    </tr>\n",
       "    <tr>\n",
       "      <th>2</th>\n",
       "      <td>0</td>\n",
       "    </tr>\n",
       "    <tr>\n",
       "      <th>3</th>\n",
       "      <td>0</td>\n",
       "    </tr>\n",
       "    <tr>\n",
       "      <th>4</th>\n",
       "      <td>0</td>\n",
       "    </tr>\n",
       "  </tbody>\n",
       "</table>\n",
       "</div>"
      ],
      "text/plain": [
       "   target\n",
       "0       1\n",
       "1       0\n",
       "2       0\n",
       "3       0\n",
       "4       0"
      ]
     },
     "execution_count": 10,
     "metadata": {},
     "output_type": "execute_result"
    }
   ],
   "source": [
    "y_train.head()"
   ]
  },
  {
   "cell_type": "code",
   "execution_count": 11,
   "metadata": {},
   "outputs": [],
   "source": [
    "X_test = pd.read_table(\"X_y_test.txt\",sep=',');"
   ]
  },
  {
   "cell_type": "code",
   "execution_count": 12,
   "metadata": {},
   "outputs": [],
   "source": [
    "y_test = pd.DataFrame()"
   ]
  },
  {
   "cell_type": "code",
   "execution_count": 13,
   "metadata": {},
   "outputs": [],
   "source": [
    "y_test['target'] = X_test['target']"
   ]
  },
  {
   "cell_type": "code",
   "execution_count": 14,
   "metadata": {},
   "outputs": [],
   "source": [
    "X_test = X_test[['ACH_IN_MTD_AMT', 'ACH_IN_MTD_QTY', 'ACH_OUT_MTD_AMT',\n",
    "       'ACH_OUT_MTD_QTY', 'CHK_WRITTEN_MTD_QTY', 'DEBIT_CARD_MTD_AMT',\n",
    "       'DEBIT_CARD_MTD_QTY', 'MOBILE_STD_DEP_QTY', '%diff_ACH_IN',\n",
    "       'diff_ACH_IN_QTY', '%diff_ACH_OUT', '%diff_CHECK_WRITTEN',\n",
    "       'diff_CHECK_WRITTEN', '%diff_DEBIT_CARD', 'diff_DEBIT_CARD_QTY',\n",
    "       'CHK_WRITTEN_per_trans', 'inactive_months', 'CONS_LOAN_BAL_AMT',\n",
    "       'CONS_LOAN_WAR_PCT', 'CONS_DEPOSIT_ACCT_QTY', 'CONS_DEPOSIT_BAL_AMT',\n",
    "       'MORTGAGE_BAL_AMT', 'SAVINGS_BAL_AMT', 'CHECKING_BAL_AMT',\n",
    "       'CREDIT_CARD_BAL_AMT', 'LAST_DIRECT_DEPOSIT_AMT', 'AVG_MONTHLY_BAL_AMT',\n",
    "       'LAST_STMT_BAL_AMT', '%diff_AVG_MONTHLY_BAL', '%diff_LAST_STMT_BAL',\n",
    "       'recency', 'DIRECT_DEP_IND_Y', 'ACTIVE_CHK_IND_Y', 'HABITUAL_OD_IND_Y']]"
   ]
  },
  {
   "cell_type": "code",
   "execution_count": 15,
   "metadata": {},
   "outputs": [
    {
     "data": {
      "text/plain": [
       "(750949, 34)"
      ]
     },
     "execution_count": 15,
     "metadata": {},
     "output_type": "execute_result"
    }
   ],
   "source": [
    "X_test.shape"
   ]
  },
  {
   "cell_type": "code",
   "execution_count": 16,
   "metadata": {},
   "outputs": [
    {
     "data": {
      "text/plain": [
       "XGBClassifier(base_score=0.5, booster='gbtree', colsample_bylevel=1,\n",
       "       colsample_bynode=1, colsample_bytree=1, gamma=0, learning_rate=0.1,\n",
       "       max_delta_step=0, max_depth=3, min_child_weight=1, missing=None,\n",
       "       n_estimators=100, n_jobs=1, nthread=None,\n",
       "       objective='binary:logistic', random_state=0, reg_alpha=0,\n",
       "       reg_lambda=1, scale_pos_weight=1, seed=None, silent=None,\n",
       "       subsample=1, verbosity=1)"
      ]
     },
     "execution_count": 16,
     "metadata": {},
     "output_type": "execute_result"
    }
   ],
   "source": [
    "# fit model on training data\n",
    "model = XGBClassifier();\n",
    "model.fit(X_train, y_train) "
   ]
  },
  {
   "cell_type": "code",
   "execution_count": 17,
   "metadata": {},
   "outputs": [
    {
     "name": "stdout",
     "output_type": "stream",
     "text": [
      "Accuracy: 98.60%\n"
     ]
    }
   ],
   "source": [
    "# fit model on training data\n",
    "#model = XGBClassifier(learning_rate=0.01, max_depth=5, n_estimators=500, min_child_weight=5, n_jobs=-1);\n",
    "#model.fit(X_train, y_train) \n",
    "\n",
    "# make predictions for test data\n",
    "y_pred = model.predict(X_test)\n",
    "predictions = [round(value) for value in y_pred]\n",
    "\n",
    "# evaluate predictions\n",
    "accuracy = accuracy_score(y_test, predictions)\n",
    "print(\"Accuracy: %.2f%%\" % (accuracy * 100.0))"
   ]
  },
  {
   "cell_type": "markdown",
   "metadata": {},
   "source": [
    "**Out of sample**"
   ]
  },
  {
   "cell_type": "code",
   "execution_count": 18,
   "metadata": {},
   "outputs": [
    {
     "data": {
      "image/png": "[encoded data removed]",
      "text/plain": [
       "<Figure size 432x288 with 1 Axes>"
      ]
     },
     "metadata": {
      "needs_background": "light"
     },
     "output_type": "display_data"
    }
   ],
   "source": [
    "probs1 = model.predict_proba(X_test)\n",
    "pred1 = probs1[:,1]\n",
    "fpr1, tpr1, threshold1 = metrics.roc_curve(y_test, pred1)\n",
    "roc_auc1 = metrics.auc(fpr1, tpr1)\n",
    "plt.title('Receiver Operating Characteristic');\n",
    "plt.plot(fpr1, tpr1, 'b', color = 'green',label = 'AUC = %0.2f' % roc_auc1);\n",
    "plt.legend(loc = 'lower right')\n",
    "plt.plot([0, 1], [0, 1],'r--')\n",
    "plt.xlim([0, 1])\n",
    "plt.ylim([0, 1])\n",
    "plt.ylabel('True Positive Rate')\n",
    "plt.xlabel('False Positive Rate')\n",
    "plt.show()"
   ]
  },
  {
   "cell_type": "code",
   "execution_count": 129,
   "metadata": {},
   "outputs": [
    {
     "name": "stdout",
     "output_type": "stream",
     "text": [
      "F1-score =  [0.29274218 0.28719197 0.29593693 0.29502262 0.32130178]  Mean F1 score =  0.29843909595975504\n"
     ]
    }
   ],
   "source": [
    "# Cross validation scores\n",
    "f1_scores = cross_val_score(model, x_val_1, y_val_1, cv=5, scoring='f1')\n",
    "print(\"F1-score = \",f1_scores,\" Mean F1 score = \",np.mean(f1_scores))"
   ]
  },
  {
   "cell_type": "code",
   "execution_count": 142,
   "metadata": {},
   "outputs": [
    {
     "data": {
      "text/plain": [
       "array([0.13018508, 0.00831075, 0.00980401, ..., 0.33419666, 0.19761695,\n",
       "       0.32897615], dtype=float32)"
      ]
     },
     "execution_count": 142,
     "metadata": {},
     "output_type": "execute_result"
    }
   ],
   "source": [
    "model.predict_proba(X_test)[:,1]"
   ]
  },
  {
   "cell_type": "code",
   "execution_count": 19,
   "metadata": {},
   "outputs": [
    {
     "name": "stdout",
     "output_type": "stream",
     "text": [
      "[[601924 140091]\n",
      " [  2400   6534]]\n",
      "              precision    recall  f1-score   support\n",
      "\n",
      "           0       1.00      0.81      0.89    742015\n",
      "           1       0.04      0.73      0.08      8934\n",
      "\n",
      "   micro avg       0.81      0.81      0.81    750949\n",
      "   macro avg       0.52      0.77      0.49    750949\n",
      "weighted avg       0.98      0.81      0.88    750949\n",
      "\n"
     ]
    }
   ],
   "source": [
    "y_pred_test = [ 1 if x > 0.05 else 0 for x in model.predict_proba(X_test)[:,1]]\n",
    "confusion_matrix(y_test, y_pred_test)\n",
    "print(classification_report(y_test, y_pred_test))"
   ]
  },
  {
   "cell_type": "markdown",
   "metadata": {},
   "source": [
    "**Trying to early stop**"
   ]
  },
  {
   "cell_type": "code",
   "execution_count": 132,
   "metadata": {},
   "outputs": [
    {
     "name": "stdout",
     "output_type": "stream",
     "text": [
      "[0]\tvalidation_0-error:0.044955\tvalidation_0-logloss:0.612474\tvalidation_1-error:0.013371\tvalidation_1-logloss:0.608089\n",
      "[1]\tvalidation_0-error:0.044955\tvalidation_0-logloss:0.546954\tvalidation_1-error:0.01344\tvalidation_1-logloss:0.538454\n",
      "[2]\tvalidation_0-error:0.044955\tvalidation_0-logloss:0.492762\tvalidation_1-error:0.013431\tvalidation_1-logloss:0.478166\n",
      "[3]\tvalidation_0-error:0.04438\tvalidation_0-logloss:0.446544\tvalidation_1-error:0.013679\tvalidation_1-logloss:0.427184\n",
      "[4]\tvalidation_0-error:0.044243\tvalidation_0-logloss:0.407306\tvalidation_1-error:0.013504\tvalidation_1-logloss:0.385589\n",
      "[5]\tvalidation_0-error:0.044105\tvalidation_0-logloss:0.373842\tvalidation_1-error:0.013231\tvalidation_1-logloss:0.34872\n",
      "[6]\tvalidation_0-error:0.044018\tvalidation_0-logloss:0.345274\tvalidation_1-error:0.01272\tvalidation_1-logloss:0.316376\n",
      "[7]\tvalidation_0-error:0.044043\tvalidation_0-logloss:0.320388\tvalidation_1-error:0.012667\tvalidation_1-logloss:0.288331\n",
      "[8]\tvalidation_0-error:0.044055\tvalidation_0-logloss:0.298749\tvalidation_1-error:0.012688\tvalidation_1-logloss:0.263525\n",
      "[9]\tvalidation_0-error:0.04398\tvalidation_0-logloss:0.27991\tvalidation_1-error:0.012645\tvalidation_1-logloss:0.242843\n",
      "[10]\tvalidation_0-error:0.043968\tvalidation_0-logloss:0.263692\tvalidation_1-error:0.012624\tvalidation_1-logloss:0.223487\n",
      "[11]\tvalidation_0-error:0.044005\tvalidation_0-logloss:0.249258\tvalidation_1-error:0.012669\tvalidation_1-logloss:0.20688\n",
      "[12]\tvalidation_0-error:0.04393\tvalidation_0-logloss:0.236874\tvalidation_1-error:0.012732\tvalidation_1-logloss:0.19241\n",
      "[13]\tvalidation_0-error:0.04393\tvalidation_0-logloss:0.225893\tvalidation_1-error:0.012732\tvalidation_1-logloss:0.179184\n",
      "[14]\tvalidation_0-error:0.043755\tvalidation_0-logloss:0.216267\tvalidation_1-error:0.013002\tvalidation_1-logloss:0.168103\n",
      "[15]\tvalidation_0-error:0.043755\tvalidation_0-logloss:0.207835\tvalidation_1-error:0.012933\tvalidation_1-logloss:0.15767\n",
      "[16]\tvalidation_0-error:0.043605\tvalidation_0-logloss:0.20032\tvalidation_1-error:0.012775\tvalidation_1-logloss:0.148094\n",
      "[17]\tvalidation_0-error:0.04368\tvalidation_0-logloss:0.193833\tvalidation_1-error:0.012909\tvalidation_1-logloss:0.140081\n",
      "[18]\tvalidation_0-error:0.043618\tvalidation_0-logloss:0.188131\tvalidation_1-error:0.012744\tvalidation_1-logloss:0.132868\n",
      "[19]\tvalidation_0-error:0.04368\tvalidation_0-logloss:0.183079\tvalidation_1-error:0.012924\tvalidation_1-logloss:0.126225\n",
      "[20]\tvalidation_0-error:0.043693\tvalidation_0-logloss:0.178638\tvalidation_1-error:0.012976\tvalidation_1-logloss:0.120379\n",
      "[21]\tvalidation_0-error:0.043643\tvalidation_0-logloss:0.174813\tvalidation_1-error:0.012796\tvalidation_1-logloss:0.115013\n",
      "[22]\tvalidation_0-error:0.043718\tvalidation_0-logloss:0.171304\tvalidation_1-error:0.012934\tvalidation_1-logloss:0.110362\n",
      "[23]\tvalidation_0-error:0.043693\tvalidation_0-logloss:0.168291\tvalidation_1-error:0.012978\tvalidation_1-logloss:0.106093\n",
      "[24]\tvalidation_0-error:0.043693\tvalidation_0-logloss:0.165549\tvalidation_1-error:0.01296\tvalidation_1-logloss:0.102274\n",
      "[25]\tvalidation_0-error:0.043693\tvalidation_0-logloss:0.163157\tvalidation_1-error:0.012996\tvalidation_1-logloss:0.099081\n",
      "[26]\tvalidation_0-error:0.043668\tvalidation_0-logloss:0.160978\tvalidation_1-error:0.012992\tvalidation_1-logloss:0.095909\n",
      "[27]\tvalidation_0-error:0.043743\tvalidation_0-logloss:0.159152\tvalidation_1-error:0.013017\tvalidation_1-logloss:0.09323\n",
      "[28]\tvalidation_0-error:0.043693\tvalidation_0-logloss:0.157512\tvalidation_1-error:0.013014\tvalidation_1-logloss:0.090766\n",
      "[29]\tvalidation_0-error:0.04363\tvalidation_0-logloss:0.156062\tvalidation_1-error:0.013078\tvalidation_1-logloss:0.088453\n",
      "[30]\tvalidation_0-error:0.04363\tvalidation_0-logloss:0.154741\tvalidation_1-error:0.013103\tvalidation_1-logloss:0.086547\n",
      "[31]\tvalidation_0-error:0.043643\tvalidation_0-logloss:0.153628\tvalidation_1-error:0.01315\tvalidation_1-logloss:0.084789\n",
      "[32]\tvalidation_0-error:0.043568\tvalidation_0-logloss:0.152557\tvalidation_1-error:0.013214\tvalidation_1-logloss:0.083105\n",
      "[33]\tvalidation_0-error:0.043668\tvalidation_0-logloss:0.151608\tvalidation_1-error:0.01321\tvalidation_1-logloss:0.081679\n",
      "[34]\tvalidation_0-error:0.04368\tvalidation_0-logloss:0.15075\tvalidation_1-error:0.013186\tvalidation_1-logloss:0.080435\n",
      "[35]\tvalidation_0-error:0.043493\tvalidation_0-logloss:0.149959\tvalidation_1-error:0.01321\tvalidation_1-logloss:0.079185\n",
      "[36]\tvalidation_0-error:0.043493\tvalidation_0-logloss:0.149298\tvalidation_1-error:0.013223\tvalidation_1-logloss:0.078156\n",
      "[37]\tvalidation_0-error:0.043568\tvalidation_0-logloss:0.14865\tvalidation_1-error:0.013207\tvalidation_1-logloss:0.077193\n",
      "[38]\tvalidation_0-error:0.04348\tvalidation_0-logloss:0.148093\tvalidation_1-error:0.013356\tvalidation_1-logloss:0.076329\n",
      "[39]\tvalidation_0-error:0.04348\tvalidation_0-logloss:0.14757\tvalidation_1-error:0.013347\tvalidation_1-logloss:0.075566\n",
      "[40]\tvalidation_0-error:0.043505\tvalidation_0-logloss:0.147116\tvalidation_1-error:0.013367\tvalidation_1-logloss:0.074861\n",
      "[41]\tvalidation_0-error:0.04348\tvalidation_0-logloss:0.14669\tvalidation_1-error:0.013344\tvalidation_1-logloss:0.074223\n",
      "[42]\tvalidation_0-error:0.043443\tvalidation_0-logloss:0.146315\tvalidation_1-error:0.01339\tvalidation_1-logloss:0.073646\n",
      "[43]\tvalidation_0-error:0.04353\tvalidation_0-logloss:0.145927\tvalidation_1-error:0.013415\tvalidation_1-logloss:0.073098\n",
      "[44]\tvalidation_0-error:0.043455\tvalidation_0-logloss:0.145603\tvalidation_1-error:0.013408\tvalidation_1-logloss:0.072626\n",
      "[45]\tvalidation_0-error:0.043505\tvalidation_0-logloss:0.145288\tvalidation_1-error:0.013475\tvalidation_1-logloss:0.072201\n",
      "[46]\tvalidation_0-error:0.043518\tvalidation_0-logloss:0.144988\tvalidation_1-error:0.013471\tvalidation_1-logloss:0.071806\n",
      "[47]\tvalidation_0-error:0.043655\tvalidation_0-logloss:0.144711\tvalidation_1-error:0.013479\tvalidation_1-logloss:0.071443\n",
      "[48]\tvalidation_0-error:0.043593\tvalidation_0-logloss:0.144475\tvalidation_1-error:0.013458\tvalidation_1-logloss:0.071133\n",
      "[49]\tvalidation_0-error:0.04363\tvalidation_0-logloss:0.144229\tvalidation_1-error:0.01351\tvalidation_1-logloss:0.07086\n",
      "[50]\tvalidation_0-error:0.043518\tvalidation_0-logloss:0.144011\tvalidation_1-error:0.013552\tvalidation_1-logloss:0.070593\n",
      "[51]\tvalidation_0-error:0.043468\tvalidation_0-logloss:0.143811\tvalidation_1-error:0.013566\tvalidation_1-logloss:0.07036\n",
      "[52]\tvalidation_0-error:0.043455\tvalidation_0-logloss:0.143603\tvalidation_1-error:0.013581\tvalidation_1-logloss:0.070113\n",
      "[53]\tvalidation_0-error:0.043305\tvalidation_0-logloss:0.143431\tvalidation_1-error:0.013632\tvalidation_1-logloss:0.069925\n",
      "[54]\tvalidation_0-error:0.04328\tvalidation_0-logloss:0.143233\tvalidation_1-error:0.013655\tvalidation_1-logloss:0.069738\n",
      "[55]\tvalidation_0-error:0.043355\tvalidation_0-logloss:0.143042\tvalidation_1-error:0.013687\tvalidation_1-logloss:0.069585\n",
      "[56]\tvalidation_0-error:0.043293\tvalidation_0-logloss:0.142901\tvalidation_1-error:0.013693\tvalidation_1-logloss:0.069441\n",
      "[57]\tvalidation_0-error:0.043218\tvalidation_0-logloss:0.142744\tvalidation_1-error:0.01372\tvalidation_1-logloss:0.06929\n",
      "[58]\tvalidation_0-error:0.043205\tvalidation_0-logloss:0.142557\tvalidation_1-error:0.013747\tvalidation_1-logloss:0.069143\n",
      "[59]\tvalidation_0-error:0.043268\tvalidation_0-logloss:0.142419\tvalidation_1-error:0.013772\tvalidation_1-logloss:0.069037\n",
      "[60]\tvalidation_0-error:0.043268\tvalidation_0-logloss:0.142296\tvalidation_1-error:0.013795\tvalidation_1-logloss:0.068939\n",
      "[61]\tvalidation_0-error:0.04318\tvalidation_0-logloss:0.142113\tvalidation_1-error:0.013787\tvalidation_1-logloss:0.068833\n",
      "[62]\tvalidation_0-error:0.04318\tvalidation_0-logloss:0.141996\tvalidation_1-error:0.013787\tvalidation_1-logloss:0.068755\n",
      "[63]\tvalidation_0-error:0.043143\tvalidation_0-logloss:0.141885\tvalidation_1-error:0.013812\tvalidation_1-logloss:0.068681\n",
      "[64]\tvalidation_0-error:0.043193\tvalidation_0-logloss:0.141786\tvalidation_1-error:0.013783\tvalidation_1-logloss:0.06861\n",
      "[65]\tvalidation_0-error:0.043193\tvalidation_0-logloss:0.141688\tvalidation_1-error:0.013789\tvalidation_1-logloss:0.068546\n",
      "[66]\tvalidation_0-error:0.04313\tvalidation_0-logloss:0.141517\tvalidation_1-error:0.013824\tvalidation_1-logloss:0.068459\n",
      "[67]\tvalidation_0-error:0.04313\tvalidation_0-logloss:0.141411\tvalidation_1-error:0.013827\tvalidation_1-logloss:0.068408\n",
      "[68]\tvalidation_0-error:0.043105\tvalidation_0-logloss:0.141258\tvalidation_1-error:0.013829\tvalidation_1-logloss:0.068333\n"
     ]
    },
    {
     "name": "stdout",
     "output_type": "stream",
     "text": [
      "[69]\tvalidation_0-error:0.043006\tvalidation_0-logloss:0.141138\tvalidation_1-error:0.013866\tvalidation_1-logloss:0.06825\n",
      "[70]\tvalidation_0-error:0.043056\tvalidation_0-logloss:0.141047\tvalidation_1-error:0.013881\tvalidation_1-logloss:0.068205\n",
      "[71]\tvalidation_0-error:0.043043\tvalidation_0-logloss:0.140934\tvalidation_1-error:0.013884\tvalidation_1-logloss:0.06816\n",
      "[72]\tvalidation_0-error:0.043018\tvalidation_0-logloss:0.140875\tvalidation_1-error:0.01388\tvalidation_1-logloss:0.068123\n",
      "[73]\tvalidation_0-error:0.043043\tvalidation_0-logloss:0.140781\tvalidation_1-error:0.013905\tvalidation_1-logloss:0.068089\n",
      "[74]\tvalidation_0-error:0.043043\tvalidation_0-logloss:0.140693\tvalidation_1-error:0.013912\tvalidation_1-logloss:0.068055\n",
      "[75]\tvalidation_0-error:0.043031\tvalidation_0-logloss:0.14062\tvalidation_1-error:0.013922\tvalidation_1-logloss:0.068028\n",
      "[76]\tvalidation_0-error:0.043043\tvalidation_0-logloss:0.140554\tvalidation_1-error:0.013918\tvalidation_1-logloss:0.068006\n",
      "[77]\tvalidation_0-error:0.042993\tvalidation_0-logloss:0.140471\tvalidation_1-error:0.01392\tvalidation_1-logloss:0.067976\n",
      "[78]\tvalidation_0-error:0.042981\tvalidation_0-logloss:0.140385\tvalidation_1-error:0.013921\tvalidation_1-logloss:0.067951\n",
      "[79]\tvalidation_0-error:0.043018\tvalidation_0-logloss:0.140266\tvalidation_1-error:0.013921\tvalidation_1-logloss:0.067918\n",
      "[80]\tvalidation_0-error:0.042993\tvalidation_0-logloss:0.140196\tvalidation_1-error:0.01394\tvalidation_1-logloss:0.067895\n",
      "[81]\tvalidation_0-error:0.042993\tvalidation_0-logloss:0.140147\tvalidation_1-error:0.013934\tvalidation_1-logloss:0.067876\n",
      "[82]\tvalidation_0-error:0.043006\tvalidation_0-logloss:0.140026\tvalidation_1-error:0.01394\tvalidation_1-logloss:0.067846\n",
      "[83]\tvalidation_0-error:0.042993\tvalidation_0-logloss:0.139955\tvalidation_1-error:0.013945\tvalidation_1-logloss:0.06783\n",
      "[84]\tvalidation_0-error:0.042956\tvalidation_0-logloss:0.139893\tvalidation_1-error:0.013944\tvalidation_1-logloss:0.06782\n",
      "[85]\tvalidation_0-error:0.042993\tvalidation_0-logloss:0.139787\tvalidation_1-error:0.013977\tvalidation_1-logloss:0.067796\n",
      "[86]\tvalidation_0-error:0.042968\tvalidation_0-logloss:0.139693\tvalidation_1-error:0.013969\tvalidation_1-logloss:0.067781\n",
      "[87]\tvalidation_0-error:0.043018\tvalidation_0-logloss:0.139635\tvalidation_1-error:0.013984\tvalidation_1-logloss:0.067774\n",
      "[88]\tvalidation_0-error:0.042968\tvalidation_0-logloss:0.139555\tvalidation_1-error:0.013986\tvalidation_1-logloss:0.067754\n",
      "[89]\tvalidation_0-error:0.042968\tvalidation_0-logloss:0.139489\tvalidation_1-error:0.013996\tvalidation_1-logloss:0.067742\n",
      "[90]\tvalidation_0-error:0.042981\tvalidation_0-logloss:0.13939\tvalidation_1-error:0.013958\tvalidation_1-logloss:0.067719\n",
      "[91]\tvalidation_0-error:0.042981\tvalidation_0-logloss:0.139273\tvalidation_1-error:0.013948\tvalidation_1-logloss:0.067698\n",
      "[92]\tvalidation_0-error:0.042968\tvalidation_0-logloss:0.139229\tvalidation_1-error:0.013949\tvalidation_1-logloss:0.067686\n",
      "[93]\tvalidation_0-error:0.042906\tvalidation_0-logloss:0.139141\tvalidation_1-error:0.013961\tvalidation_1-logloss:0.06767\n",
      "[94]\tvalidation_0-error:0.042918\tvalidation_0-logloss:0.139088\tvalidation_1-error:0.013974\tvalidation_1-logloss:0.067656\n",
      "[95]\tvalidation_0-error:0.042931\tvalidation_0-logloss:0.139026\tvalidation_1-error:0.013989\tvalidation_1-logloss:0.067644\n",
      "[96]\tvalidation_0-error:0.042881\tvalidation_0-logloss:0.138972\tvalidation_1-error:0.01399\tvalidation_1-logloss:0.067635\n",
      "[97]\tvalidation_0-error:0.042918\tvalidation_0-logloss:0.138885\tvalidation_1-error:0.014004\tvalidation_1-logloss:0.067625\n",
      "[98]\tvalidation_0-error:0.042918\tvalidation_0-logloss:0.138843\tvalidation_1-error:0.014001\tvalidation_1-logloss:0.067622\n",
      "[99]\tvalidation_0-error:0.042881\tvalidation_0-logloss:0.138797\tvalidation_1-error:0.013982\tvalidation_1-logloss:0.067613\n",
      "Accuracy: 98.60%\n"
     ]
    },
    {
     "data": {
      "image/png": "[encoded data removed]",
      "text/plain": [
       "<Figure size 432x288 with 1 Axes>"
      ]
     },
     "metadata": {
      "needs_background": "light"
     },
     "output_type": "display_data"
    },
    {
     "data": {
      "image/png": "[encoded data removed]",
      "text/plain": [
       "<Figure size 432x288 with 1 Axes>"
      ]
     },
     "metadata": {
      "needs_background": "light"
     },
     "output_type": "display_data"
    }
   ],
   "source": [
    "from matplotlib import pyplot\n",
    "# fit model no training data\n",
    "model = XGBClassifier()\n",
    "eval_set = [(X_train, y_train), (X_test, y_test)]\n",
    "model.fit(X_train, y_train, eval_metric=[\"error\", \"logloss\"], eval_set=eval_set, verbose=True)\n",
    "# make predictions for test data\n",
    "y_pred = model.predict(X_test)\n",
    "predictions = [round(value) for value in y_pred]\n",
    "# evaluate predictions\n",
    "accuracy = accuracy_score(y_test, predictions)\n",
    "print(\"Accuracy: %.2f%%\" % (accuracy * 100.0))\n",
    "# retrieve performance metrics\n",
    "results = model.evals_result()\n",
    "epochs = len(results['validation_0']['error'])\n",
    "x_axis = range(0, epochs)\n",
    "# plot log loss\n",
    "fig, ax = pyplot.subplots()\n",
    "ax.plot(x_axis, results['validation_0']['logloss'], label='Train')\n",
    "ax.plot(x_axis, results['validation_1']['logloss'], label='Test')\n",
    "ax.legend()\n",
    "pyplot.ylabel('Log Loss')\n",
    "pyplot.title('XGBoost Log Loss')\n",
    "pyplot.show()\n",
    "# plot classification error\n",
    "fig, ax = pyplot.subplots()\n",
    "ax.plot(x_axis, results['validation_0']['error'], label='Train')\n",
    "ax.plot(x_axis, results['validation_1']['error'], label='Test')\n",
    "ax.legend()\n",
    "pyplot.ylabel('Classification Error')\n",
    "pyplot.title('XGBoost Classification Error')\n",
    "pyplot.show()"
   ]
  },
  {
   "cell_type": "code",
   "execution_count": 135,
   "metadata": {},
   "outputs": [
    {
     "name": "stdout",
     "output_type": "stream",
     "text": [
      "[0]\tvalidation_0-logloss:0.608089\n",
      "Will train until validation_0-logloss hasn't improved in 5 rounds.\n",
      "[1]\tvalidation_0-logloss:0.538454\n",
      "[2]\tvalidation_0-logloss:0.478166\n",
      "[3]\tvalidation_0-logloss:0.427184\n",
      "[4]\tvalidation_0-logloss:0.385589\n",
      "[5]\tvalidation_0-logloss:0.34872\n",
      "[6]\tvalidation_0-logloss:0.316376\n",
      "[7]\tvalidation_0-logloss:0.288331\n",
      "[8]\tvalidation_0-logloss:0.263525\n",
      "[9]\tvalidation_0-logloss:0.242843\n",
      "[10]\tvalidation_0-logloss:0.223487\n",
      "[11]\tvalidation_0-logloss:0.20688\n",
      "[12]\tvalidation_0-logloss:0.19241\n",
      "[13]\tvalidation_0-logloss:0.179184\n",
      "[14]\tvalidation_0-logloss:0.168103\n",
      "[15]\tvalidation_0-logloss:0.15767\n",
      "[16]\tvalidation_0-logloss:0.148094\n",
      "[17]\tvalidation_0-logloss:0.140081\n",
      "[18]\tvalidation_0-logloss:0.132868\n",
      "[19]\tvalidation_0-logloss:0.126225\n",
      "[20]\tvalidation_0-logloss:0.120379\n",
      "[21]\tvalidation_0-logloss:0.115013\n",
      "[22]\tvalidation_0-logloss:0.110362\n",
      "[23]\tvalidation_0-logloss:0.106093\n",
      "[24]\tvalidation_0-logloss:0.102274\n",
      "[25]\tvalidation_0-logloss:0.099081\n",
      "[26]\tvalidation_0-logloss:0.095909\n",
      "[27]\tvalidation_0-logloss:0.09323\n",
      "[28]\tvalidation_0-logloss:0.090766\n",
      "[29]\tvalidation_0-logloss:0.088453\n",
      "[30]\tvalidation_0-logloss:0.086547\n",
      "[31]\tvalidation_0-logloss:0.084789\n",
      "[32]\tvalidation_0-logloss:0.083105\n",
      "[33]\tvalidation_0-logloss:0.081679\n",
      "[34]\tvalidation_0-logloss:0.080435\n",
      "[35]\tvalidation_0-logloss:0.079185\n",
      "[36]\tvalidation_0-logloss:0.078156\n",
      "[37]\tvalidation_0-logloss:0.077193\n",
      "[38]\tvalidation_0-logloss:0.076329\n",
      "[39]\tvalidation_0-logloss:0.075566\n",
      "[40]\tvalidation_0-logloss:0.074861\n",
      "[41]\tvalidation_0-logloss:0.074223\n",
      "[42]\tvalidation_0-logloss:0.073646\n",
      "[43]\tvalidation_0-logloss:0.073098\n",
      "[44]\tvalidation_0-logloss:0.072626\n",
      "[45]\tvalidation_0-logloss:0.072201\n",
      "[46]\tvalidation_0-logloss:0.071806\n",
      "[47]\tvalidation_0-logloss:0.071443\n",
      "[48]\tvalidation_0-logloss:0.071133\n",
      "[49]\tvalidation_0-logloss:0.07086\n",
      "[50]\tvalidation_0-logloss:0.070593\n",
      "[51]\tvalidation_0-logloss:0.07036\n",
      "[52]\tvalidation_0-logloss:0.070113\n",
      "[53]\tvalidation_0-logloss:0.069925\n",
      "[54]\tvalidation_0-logloss:0.069738\n",
      "[55]\tvalidation_0-logloss:0.069585\n",
      "[56]\tvalidation_0-logloss:0.069441\n",
      "[57]\tvalidation_0-logloss:0.06929\n",
      "[58]\tvalidation_0-logloss:0.069143\n",
      "[59]\tvalidation_0-logloss:0.069037\n",
      "[60]\tvalidation_0-logloss:0.068939\n",
      "[61]\tvalidation_0-logloss:0.068833\n",
      "[62]\tvalidation_0-logloss:0.068755\n",
      "[63]\tvalidation_0-logloss:0.068681\n",
      "[64]\tvalidation_0-logloss:0.06861\n",
      "[65]\tvalidation_0-logloss:0.068546\n",
      "[66]\tvalidation_0-logloss:0.068459\n",
      "[67]\tvalidation_0-logloss:0.068408\n",
      "[68]\tvalidation_0-logloss:0.068333\n",
      "[69]\tvalidation_0-logloss:0.06825\n",
      "[70]\tvalidation_0-logloss:0.068205\n",
      "[71]\tvalidation_0-logloss:0.06816\n",
      "[72]\tvalidation_0-logloss:0.068123\n",
      "[73]\tvalidation_0-logloss:0.068089\n",
      "[74]\tvalidation_0-logloss:0.068055\n",
      "[75]\tvalidation_0-logloss:0.068028\n",
      "[76]\tvalidation_0-logloss:0.068006\n",
      "[77]\tvalidation_0-logloss:0.067976\n",
      "[78]\tvalidation_0-logloss:0.067951\n",
      "[79]\tvalidation_0-logloss:0.067918\n",
      "[80]\tvalidation_0-logloss:0.067895\n",
      "[81]\tvalidation_0-logloss:0.067876\n",
      "[82]\tvalidation_0-logloss:0.067846\n",
      "[83]\tvalidation_0-logloss:0.06783\n",
      "[84]\tvalidation_0-logloss:0.06782\n",
      "[85]\tvalidation_0-logloss:0.067796\n",
      "[86]\tvalidation_0-logloss:0.067781\n",
      "[87]\tvalidation_0-logloss:0.067774\n",
      "[88]\tvalidation_0-logloss:0.067754\n",
      "[89]\tvalidation_0-logloss:0.067742\n",
      "[90]\tvalidation_0-logloss:0.067719\n",
      "[91]\tvalidation_0-logloss:0.067698\n",
      "[92]\tvalidation_0-logloss:0.067686\n",
      "[93]\tvalidation_0-logloss:0.06767\n",
      "[94]\tvalidation_0-logloss:0.067656\n",
      "[95]\tvalidation_0-logloss:0.067644\n",
      "[96]\tvalidation_0-logloss:0.067635\n",
      "[97]\tvalidation_0-logloss:0.067625\n",
      "[98]\tvalidation_0-logloss:0.067622\n",
      "[99]\tvalidation_0-logloss:0.067613\n"
     ]
    },
    {
     "data": {
      "text/plain": [
       "XGBClassifier(base_score=0.5, booster='gbtree', colsample_bylevel=1,\n",
       "       colsample_bynode=1, colsample_bytree=1, gamma=0, learning_rate=0.1,\n",
       "       max_delta_step=0, max_depth=3, min_child_weight=1, missing=None,\n",
       "       n_estimators=100, n_jobs=1, nthread=None,\n",
       "       objective='binary:logistic', random_state=0, reg_alpha=0,\n",
       "       reg_lambda=1, scale_pos_weight=1, seed=None, silent=None,\n",
       "       subsample=1, verbosity=1)"
      ]
     },
     "execution_count": 135,
     "metadata": {},
     "output_type": "execute_result"
    }
   ],
   "source": [
    "eval_set = [(X_test, y_test)]\n",
    "model.fit(X_train, y_train, early_stopping_rounds=5, eval_metric=\"logloss\", eval_set=eval_set, verbose=True)"
   ]
  },
  {
   "cell_type": "code",
   "execution_count": 136,
   "metadata": {},
   "outputs": [
    {
     "name": "stdout",
     "output_type": "stream",
     "text": [
      "[[601924 140091]\n",
      " [  2400   6534]]\n",
      "              precision    recall  f1-score   support\n",
      "\n",
      "           0       1.00      0.81      0.89    742015\n",
      "           1       0.04      0.73      0.08      8934\n",
      "\n",
      "   micro avg       0.81      0.81      0.81    750949\n",
      "   macro avg       0.52      0.77      0.49    750949\n",
      "weighted avg       0.98      0.81      0.88    750949\n",
      "\n"
     ]
    }
   ],
   "source": [
    "y_pred_test = [ 1 if x > 0.05 else 0 for x in model.predict_proba(X_test)[:,1]]\n",
    "print(confusion_matrix(y_test, y_pred_test))\n",
    "print(classification_report(y_test, y_pred_test))"
   ]
  },
  {
   "cell_type": "markdown",
   "metadata": {},
   "source": [
    "**Standardizing the predictor variables**"
   ]
  },
  {
   "cell_type": "code",
   "execution_count": 94,
   "metadata": {},
   "outputs": [],
   "source": [
    "from sklearn import preprocessing"
   ]
  },
  {
   "cell_type": "code",
   "execution_count": 95,
   "metadata": {},
   "outputs": [
    {
     "data": {
      "text/plain": [
       "array([[-0.56258726, -0.87902789, -0.29028148, ..., -1.51466407,\n",
       "        -2.03419051, -0.33161103],\n",
       "       [-0.12555321, -0.11821987, -0.35526701, ...,  0.6602124 ,\n",
       "         0.49159604, -0.33161103],\n",
       "       [ 2.57244563,  1.7838002 ,  0.3324234 , ...,  0.6602124 ,\n",
       "         0.49159604, -0.33161103],\n",
       "       ...,\n",
       "       [-0.21254191, -0.11821987, -0.35526701, ...,  0.6602124 ,\n",
       "         0.49159604, -0.33161103],\n",
       "       [-0.49970469, -0.11821987, -0.35526701, ...,  0.6602124 ,\n",
       "         0.49159604, -0.33161103],\n",
       "       [-0.56258726, -0.87902789,  0.31858988, ...,  0.6602124 ,\n",
       "         0.49159604, -0.33161103]])"
      ]
     },
     "execution_count": 95,
     "metadata": {},
     "output_type": "execute_result"
    }
   ],
   "source": [
    "#standardized_X = preprocessing.scale(X_train)\n",
    "#standardized_X"
   ]
  },
  {
   "cell_type": "code",
   "execution_count": 96,
   "metadata": {},
   "outputs": [],
   "source": [
    "#num_cols = X_train.columns[X_train.dtypes.apply(lambda c: np.issubdtype(c, np.number))]"
   ]
  },
  {
   "cell_type": "code",
   "execution_count": 102,
   "metadata": {},
   "outputs": [],
   "source": [
    "num_cols = ['ACH_IN_MTD_AMT', 'ACH_IN_MTD_QTY', 'ACH_OUT_MTD_AMT',\n",
    "       'ACH_OUT_MTD_QTY', 'CHK_WRITTEN_MTD_QTY', 'DEBIT_CARD_MTD_AMT',\n",
    "       'DEBIT_CARD_MTD_QTY', 'MOBILE_STD_DEP_QTY', '%diff_ACH_IN',\n",
    "       'diff_ACH_IN_QTY', '%diff_ACH_OUT', '%diff_CHECK_WRITTEN',\n",
    "       'diff_CHECK_WRITTEN', '%diff_DEBIT_CARD', 'diff_DEBIT_CARD_QTY',\n",
    "       'CHK_WRITTEN_per_trans', 'inactive_months', 'CONS_LOAN_BAL_AMT',\n",
    "       'CONS_LOAN_WAR_PCT', 'CONS_DEPOSIT_ACCT_QTY', 'CONS_DEPOSIT_BAL_AMT',\n",
    "       'MORTGAGE_BAL_AMT', 'SAVINGS_BAL_AMT', 'CHECKING_BAL_AMT',\n",
    "       'CREDIT_CARD_BAL_AMT', 'LAST_DIRECT_DEPOSIT_AMT', 'AVG_MONTHLY_BAL_AMT',\n",
    "       'LAST_STMT_BAL_AMT', '%diff_AVG_MONTHLY_BAL', '%diff_LAST_STMT_BAL','recency']"
   ]
  },
  {
   "cell_type": "code",
   "execution_count": 165,
   "metadata": {},
   "outputs": [],
   "source": [
    "scaler_X_train = preprocessing.scale(X_train)"
   ]
  },
  {
   "cell_type": "code",
   "execution_count": 148,
   "metadata": {},
   "outputs": [],
   "source": [
    "df = pd.DataFrame(scaler_X_train)"
   ]
  },
  {
   "cell_type": "code",
   "execution_count": 152,
   "metadata": {},
   "outputs": [],
   "source": [
    "from sklearn.preprocessing import StandardScaler\n",
    "scaler_X = StandardScaler()\n",
    "scaled_data = scaler_X.fit_transform(X_train)"
   ]
  },
  {
   "cell_type": "code",
   "execution_count": 153,
   "metadata": {},
   "outputs": [
    {
     "data": {
      "text/plain": [
       "array([[-0.56258726, -0.87902789, -0.29028148, ..., -1.51466407,\n",
       "        -2.03419051, -0.33161103],\n",
       "       [-0.12555321, -0.11821987, -0.35526701, ...,  0.6602124 ,\n",
       "         0.49159604, -0.33161103],\n",
       "       [ 2.57244563,  1.7838002 ,  0.3324234 , ...,  0.6602124 ,\n",
       "         0.49159604, -0.33161103],\n",
       "       ...,\n",
       "       [-0.21254191, -0.11821987, -0.35526701, ...,  0.6602124 ,\n",
       "         0.49159604, -0.33161103],\n",
       "       [-0.49970469, -0.11821987, -0.35526701, ...,  0.6602124 ,\n",
       "         0.49159604, -0.33161103],\n",
       "       [-0.56258726, -0.87902789,  0.31858988, ...,  0.6602124 ,\n",
       "         0.49159604, -0.33161103]])"
      ]
     },
     "execution_count": 153,
     "metadata": {},
     "output_type": "execute_result"
    }
   ],
   "source": [
    "scaled_data"
   ]
  },
  {
   "cell_type": "code",
   "execution_count": 150,
   "metadata": {},
   "outputs": [
    {
     "data": {
      "text/html": [
       "<div>\n",
       "<style scoped>\n",
       "    .dataframe tbody tr th:only-of-type {\n",
       "        vertical-align: middle;\n",
       "    }\n",
       "\n",
       "    .dataframe tbody tr th {\n",
       "        vertical-align: top;\n",
       "    }\n",
       "\n",
       "    .dataframe thead th {\n",
       "        text-align: right;\n",
       "    }\n",
       "</style>\n",
       "<table border=\"1\" class=\"dataframe\">\n",
       "  <thead>\n",
       "    <tr style=\"text-align: right;\">\n",
       "      <th></th>\n",
       "      <th>0</th>\n",
       "      <th>1</th>\n",
       "      <th>2</th>\n",
       "      <th>3</th>\n",
       "      <th>4</th>\n",
       "      <th>5</th>\n",
       "      <th>6</th>\n",
       "      <th>7</th>\n",
       "      <th>8</th>\n",
       "      <th>9</th>\n",
       "      <th>...</th>\n",
       "      <th>24</th>\n",
       "      <th>25</th>\n",
       "      <th>26</th>\n",
       "      <th>27</th>\n",
       "      <th>28</th>\n",
       "      <th>29</th>\n",
       "      <th>30</th>\n",
       "      <th>31</th>\n",
       "      <th>32</th>\n",
       "      <th>33</th>\n",
       "    </tr>\n",
       "  </thead>\n",
       "  <tbody>\n",
       "    <tr>\n",
       "      <th>count</th>\n",
       "      <td>8.001300e+04</td>\n",
       "      <td>8.001300e+04</td>\n",
       "      <td>8.001300e+04</td>\n",
       "      <td>8.001300e+04</td>\n",
       "      <td>8.001300e+04</td>\n",
       "      <td>8.001300e+04</td>\n",
       "      <td>8.001300e+04</td>\n",
       "      <td>8.001300e+04</td>\n",
       "      <td>8.001300e+04</td>\n",
       "      <td>8.001300e+04</td>\n",
       "      <td>...</td>\n",
       "      <td>8.001300e+04</td>\n",
       "      <td>8.001300e+04</td>\n",
       "      <td>8.001300e+04</td>\n",
       "      <td>8.001300e+04</td>\n",
       "      <td>8.001300e+04</td>\n",
       "      <td>8.001300e+04</td>\n",
       "      <td>8.001300e+04</td>\n",
       "      <td>8.001300e+04</td>\n",
       "      <td>8.001300e+04</td>\n",
       "      <td>8.001300e+04</td>\n",
       "    </tr>\n",
       "    <tr>\n",
       "      <th>mean</th>\n",
       "      <td>-3.448292e-16</td>\n",
       "      <td>-8.913185e-16</td>\n",
       "      <td>-6.650439e-16</td>\n",
       "      <td>6.242380e-16</td>\n",
       "      <td>-1.859114e-15</td>\n",
       "      <td>3.435693e-16</td>\n",
       "      <td>1.968856e-15</td>\n",
       "      <td>9.856812e-15</td>\n",
       "      <td>-9.849297e-16</td>\n",
       "      <td>2.047130e-15</td>\n",
       "      <td>...</td>\n",
       "      <td>3.782831e-16</td>\n",
       "      <td>5.306963e-16</td>\n",
       "      <td>-8.827198e-17</td>\n",
       "      <td>-1.178976e-16</td>\n",
       "      <td>2.350096e-16</td>\n",
       "      <td>2.828774e-16</td>\n",
       "      <td>-3.810534e-17</td>\n",
       "      <td>-7.817004e-16</td>\n",
       "      <td>1.414957e-16</td>\n",
       "      <td>-6.113005e-16</td>\n",
       "    </tr>\n",
       "    <tr>\n",
       "      <th>std</th>\n",
       "      <td>1.000006e+00</td>\n",
       "      <td>1.000006e+00</td>\n",
       "      <td>1.000006e+00</td>\n",
       "      <td>1.000006e+00</td>\n",
       "      <td>1.000006e+00</td>\n",
       "      <td>1.000006e+00</td>\n",
       "      <td>1.000006e+00</td>\n",
       "      <td>1.000006e+00</td>\n",
       "      <td>1.000006e+00</td>\n",
       "      <td>1.000006e+00</td>\n",
       "      <td>...</td>\n",
       "      <td>1.000006e+00</td>\n",
       "      <td>1.000006e+00</td>\n",
       "      <td>1.000006e+00</td>\n",
       "      <td>1.000006e+00</td>\n",
       "      <td>1.000006e+00</td>\n",
       "      <td>1.000006e+00</td>\n",
       "      <td>1.000006e+00</td>\n",
       "      <td>1.000006e+00</td>\n",
       "      <td>1.000006e+00</td>\n",
       "      <td>1.000006e+00</td>\n",
       "    </tr>\n",
       "    <tr>\n",
       "      <th>min</th>\n",
       "      <td>-5.625873e-01</td>\n",
       "      <td>-8.790279e-01</td>\n",
       "      <td>-3.552670e-01</td>\n",
       "      <td>-6.659230e-01</td>\n",
       "      <td>-5.300121e-01</td>\n",
       "      <td>-6.282157e-01</td>\n",
       "      <td>-6.775970e-01</td>\n",
       "      <td>-3.007135e-01</td>\n",
       "      <td>-1.349997e+00</td>\n",
       "      <td>-3.290787e+00</td>\n",
       "      <td>...</td>\n",
       "      <td>-2.946016e-01</td>\n",
       "      <td>-3.950299e-01</td>\n",
       "      <td>-3.747856e-01</td>\n",
       "      <td>-3.755556e-01</td>\n",
       "      <td>-1.181349e+00</td>\n",
       "      <td>-7.276908e-01</td>\n",
       "      <td>-1.118804e+00</td>\n",
       "      <td>-1.514664e+00</td>\n",
       "      <td>-2.034191e+00</td>\n",
       "      <td>-3.316110e-01</td>\n",
       "    </tr>\n",
       "    <tr>\n",
       "      <th>25%</th>\n",
       "      <td>-5.625873e-01</td>\n",
       "      <td>-8.790279e-01</td>\n",
       "      <td>-3.552670e-01</td>\n",
       "      <td>-6.659230e-01</td>\n",
       "      <td>-5.300121e-01</td>\n",
       "      <td>-6.282157e-01</td>\n",
       "      <td>-6.775970e-01</td>\n",
       "      <td>-3.007135e-01</td>\n",
       "      <td>-1.573133e-01</td>\n",
       "      <td>-1.798373e-03</td>\n",
       "      <td>...</td>\n",
       "      <td>-2.946016e-01</td>\n",
       "      <td>-3.950299e-01</td>\n",
       "      <td>-3.548129e-01</td>\n",
       "      <td>-3.567876e-01</td>\n",
       "      <td>-3.372390e-01</td>\n",
       "      <td>-2.495751e-01</td>\n",
       "      <td>-7.199830e-01</td>\n",
       "      <td>-1.514664e+00</td>\n",
       "      <td>4.915960e-01</td>\n",
       "      <td>-3.316110e-01</td>\n",
       "    </tr>\n",
       "    <tr>\n",
       "      <th>50%</th>\n",
       "      <td>-2.933056e-01</td>\n",
       "      <td>-1.182199e-01</td>\n",
       "      <td>-3.206072e-01</td>\n",
       "      <td>-4.753813e-01</td>\n",
       "      <td>-5.300121e-01</td>\n",
       "      <td>-5.053112e-01</td>\n",
       "      <td>-5.335212e-01</td>\n",
       "      <td>-3.007135e-01</td>\n",
       "      <td>-1.229978e-01</td>\n",
       "      <td>-1.798373e-03</td>\n",
       "      <td>...</td>\n",
       "      <td>-2.946016e-01</td>\n",
       "      <td>-2.092889e-01</td>\n",
       "      <td>-3.061561e-01</td>\n",
       "      <td>-3.075878e-01</td>\n",
       "      <td>-1.763971e-01</td>\n",
       "      <td>-1.921740e-01</td>\n",
       "      <td>-1.644820e-01</td>\n",
       "      <td>6.602124e-01</td>\n",
       "      <td>4.915960e-01</td>\n",
       "      <td>-3.316110e-01</td>\n",
       "    </tr>\n",
       "    <tr>\n",
       "      <th>75%</th>\n",
       "      <td>1.249520e-01</td>\n",
       "      <td>2.621841e-01</td>\n",
       "      <td>-9.179831e-02</td>\n",
       "      <td>2.867853e-01</td>\n",
       "      <td>1.434029e-01</td>\n",
       "      <td>2.752431e-01</td>\n",
       "      <td>3.669529e-01</td>\n",
       "      <td>-3.007135e-01</td>\n",
       "      <td>-9.952451e-02</td>\n",
       "      <td>-1.798373e-03</td>\n",
       "      <td>...</td>\n",
       "      <td>-2.946016e-01</td>\n",
       "      <td>-8.031570e-03</td>\n",
       "      <td>-1.272521e-01</td>\n",
       "      <td>-1.267468e-01</td>\n",
       "      <td>-1.837582e-02</td>\n",
       "      <td>-1.477611e-01</td>\n",
       "      <td>4.408716e-01</td>\n",
       "      <td>6.602124e-01</td>\n",
       "      <td>4.915960e-01</td>\n",
       "      <td>-3.316110e-01</td>\n",
       "    </tr>\n",
       "    <tr>\n",
       "      <th>max</th>\n",
       "      <td>6.642741e+00</td>\n",
       "      <td>5.207436e+00</td>\n",
       "      <td>7.403945e+00</td>\n",
       "      <td>4.669243e+00</td>\n",
       "      <td>4.857307e+00</td>\n",
       "      <td>4.555779e+00</td>\n",
       "      <td>3.824773e+00</td>\n",
       "      <td>6.069346e+00</td>\n",
       "      <td>6.901768e+00</td>\n",
       "      <td>3.287190e+00</td>\n",
       "      <td>...</td>\n",
       "      <td>6.123711e+00</td>\n",
       "      <td>8.091845e+00</td>\n",
       "      <td>7.041135e+00</td>\n",
       "      <td>7.024531e+00</td>\n",
       "      <td>6.892922e+00</td>\n",
       "      <td>7.623208e+00</td>\n",
       "      <td>9.115233e+00</td>\n",
       "      <td>6.602124e-01</td>\n",
       "      <td>4.915960e-01</td>\n",
       "      <td>3.015581e+00</td>\n",
       "    </tr>\n",
       "  </tbody>\n",
       "</table>\n",
       "<p>8 rows × 34 columns</p>\n",
       "</div>"
      ],
      "text/plain": [
       "                 0             1             2             3             4   \\\n",
       "count  8.001300e+04  8.001300e+04  8.001300e+04  8.001300e+04  8.001300e+04   \n",
       "mean  -3.448292e-16 -8.913185e-16 -6.650439e-16  6.242380e-16 -1.859114e-15   \n",
       "std    1.000006e+00  1.000006e+00  1.000006e+00  1.000006e+00  1.000006e+00   \n",
       "min   -5.625873e-01 -8.790279e-01 -3.552670e-01 -6.659230e-01 -5.300121e-01   \n",
       "25%   -5.625873e-01 -8.790279e-01 -3.552670e-01 -6.659230e-01 -5.300121e-01   \n",
       "50%   -2.933056e-01 -1.182199e-01 -3.206072e-01 -4.753813e-01 -5.300121e-01   \n",
       "75%    1.249520e-01  2.621841e-01 -9.179831e-02  2.867853e-01  1.434029e-01   \n",
       "max    6.642741e+00  5.207436e+00  7.403945e+00  4.669243e+00  4.857307e+00   \n",
       "\n",
       "                 5             6             7             8             9   \\\n",
       "count  8.001300e+04  8.001300e+04  8.001300e+04  8.001300e+04  8.001300e+04   \n",
       "mean   3.435693e-16  1.968856e-15  9.856812e-15 -9.849297e-16  2.047130e-15   \n",
       "std    1.000006e+00  1.000006e+00  1.000006e+00  1.000006e+00  1.000006e+00   \n",
       "min   -6.282157e-01 -6.775970e-01 -3.007135e-01 -1.349997e+00 -3.290787e+00   \n",
       "25%   -6.282157e-01 -6.775970e-01 -3.007135e-01 -1.573133e-01 -1.798373e-03   \n",
       "50%   -5.053112e-01 -5.335212e-01 -3.007135e-01 -1.229978e-01 -1.798373e-03   \n",
       "75%    2.752431e-01  3.669529e-01 -3.007135e-01 -9.952451e-02 -1.798373e-03   \n",
       "max    4.555779e+00  3.824773e+00  6.069346e+00  6.901768e+00  3.287190e+00   \n",
       "\n",
       "       ...            24            25            26            27  \\\n",
       "count  ...  8.001300e+04  8.001300e+04  8.001300e+04  8.001300e+04   \n",
       "mean   ...  3.782831e-16  5.306963e-16 -8.827198e-17 -1.178976e-16   \n",
       "std    ...  1.000006e+00  1.000006e+00  1.000006e+00  1.000006e+00   \n",
       "min    ... -2.946016e-01 -3.950299e-01 -3.747856e-01 -3.755556e-01   \n",
       "25%    ... -2.946016e-01 -3.950299e-01 -3.548129e-01 -3.567876e-01   \n",
       "50%    ... -2.946016e-01 -2.092889e-01 -3.061561e-01 -3.075878e-01   \n",
       "75%    ... -2.946016e-01 -8.031570e-03 -1.272521e-01 -1.267468e-01   \n",
       "max    ...  6.123711e+00  8.091845e+00  7.041135e+00  7.024531e+00   \n",
       "\n",
       "                 28            29            30            31            32  \\\n",
       "count  8.001300e+04  8.001300e+04  8.001300e+04  8.001300e+04  8.001300e+04   \n",
       "mean   2.350096e-16  2.828774e-16 -3.810534e-17 -7.817004e-16  1.414957e-16   \n",
       "std    1.000006e+00  1.000006e+00  1.000006e+00  1.000006e+00  1.000006e+00   \n",
       "min   -1.181349e+00 -7.276908e-01 -1.118804e+00 -1.514664e+00 -2.034191e+00   \n",
       "25%   -3.372390e-01 -2.495751e-01 -7.199830e-01 -1.514664e+00  4.915960e-01   \n",
       "50%   -1.763971e-01 -1.921740e-01 -1.644820e-01  6.602124e-01  4.915960e-01   \n",
       "75%   -1.837582e-02 -1.477611e-01  4.408716e-01  6.602124e-01  4.915960e-01   \n",
       "max    6.892922e+00  7.623208e+00  9.115233e+00  6.602124e-01  4.915960e-01   \n",
       "\n",
       "                 33  \n",
       "count  8.001300e+04  \n",
       "mean  -6.113005e-16  \n",
       "std    1.000006e+00  \n",
       "min   -3.316110e-01  \n",
       "25%   -3.316110e-01  \n",
       "50%   -3.316110e-01  \n",
       "75%   -3.316110e-01  \n",
       "max    3.015581e+00  \n",
       "\n",
       "[8 rows x 34 columns]"
      ]
     },
     "execution_count": 150,
     "metadata": {},
     "output_type": "execute_result"
    }
   ],
   "source": [
    "df.describe()"
   ]
  },
  {
   "cell_type": "code",
   "execution_count": 157,
   "metadata": {},
   "outputs": [
    {
     "name": "stdout",
     "output_type": "stream",
     "text": [
      "MinMaxScaler(copy=True, feature_range=(0, 1))\n"
     ]
    }
   ],
   "source": [
    "from sklearn.preprocessing import MinMaxScaler\n",
    "scaler = MinMaxScaler()\n",
    "print(scaler.fit(X_train))\n",
    "df = pd.DataFrame(scaler.transform(X_train))"
   ]
  },
  {
   "cell_type": "code",
   "execution_count": 158,
   "metadata": {},
   "outputs": [
    {
     "data": {
      "text/html": [
       "<div>\n",
       "<style scoped>\n",
       "    .dataframe tbody tr th:only-of-type {\n",
       "        vertical-align: middle;\n",
       "    }\n",
       "\n",
       "    .dataframe tbody tr th {\n",
       "        vertical-align: top;\n",
       "    }\n",
       "\n",
       "    .dataframe thead th {\n",
       "        text-align: right;\n",
       "    }\n",
       "</style>\n",
       "<table border=\"1\" class=\"dataframe\">\n",
       "  <thead>\n",
       "    <tr style=\"text-align: right;\">\n",
       "      <th></th>\n",
       "      <th>0</th>\n",
       "      <th>1</th>\n",
       "      <th>2</th>\n",
       "      <th>3</th>\n",
       "      <th>4</th>\n",
       "      <th>5</th>\n",
       "      <th>6</th>\n",
       "      <th>7</th>\n",
       "      <th>8</th>\n",
       "      <th>9</th>\n",
       "      <th>...</th>\n",
       "      <th>24</th>\n",
       "      <th>25</th>\n",
       "      <th>26</th>\n",
       "      <th>27</th>\n",
       "      <th>28</th>\n",
       "      <th>29</th>\n",
       "      <th>30</th>\n",
       "      <th>31</th>\n",
       "      <th>32</th>\n",
       "      <th>33</th>\n",
       "    </tr>\n",
       "  </thead>\n",
       "  <tbody>\n",
       "    <tr>\n",
       "      <th>count</th>\n",
       "      <td>80013.000000</td>\n",
       "      <td>80013.000000</td>\n",
       "      <td>80013.000000</td>\n",
       "      <td>80013.000000</td>\n",
       "      <td>80013.000000</td>\n",
       "      <td>80013.000000</td>\n",
       "      <td>80013.000000</td>\n",
       "      <td>80013.000000</td>\n",
       "      <td>80013.000000</td>\n",
       "      <td>80013.000000</td>\n",
       "      <td>...</td>\n",
       "      <td>80013.000000</td>\n",
       "      <td>80013.000000</td>\n",
       "      <td>80013.000000</td>\n",
       "      <td>80013.000000</td>\n",
       "      <td>80013.000000</td>\n",
       "      <td>80013.000000</td>\n",
       "      <td>80013.000000</td>\n",
       "      <td>80013.000000</td>\n",
       "      <td>80013.000000</td>\n",
       "      <td>80013.000000</td>\n",
       "    </tr>\n",
       "    <tr>\n",
       "      <th>mean</th>\n",
       "      <td>0.078079</td>\n",
       "      <td>0.144423</td>\n",
       "      <td>0.045786</td>\n",
       "      <td>0.124818</td>\n",
       "      <td>0.098381</td>\n",
       "      <td>0.121184</td>\n",
       "      <td>0.150498</td>\n",
       "      <td>0.047207</td>\n",
       "      <td>0.163601</td>\n",
       "      <td>0.500273</td>\n",
       "      <td>...</td>\n",
       "      <td>0.045900</td>\n",
       "      <td>0.046546</td>\n",
       "      <td>0.050538</td>\n",
       "      <td>0.050750</td>\n",
       "      <td>0.146310</td>\n",
       "      <td>0.087139</td>\n",
       "      <td>0.109322</td>\n",
       "      <td>0.696437</td>\n",
       "      <td>0.805369</td>\n",
       "      <td>0.099071</td>\n",
       "    </tr>\n",
       "    <tr>\n",
       "      <th>std</th>\n",
       "      <td>0.138787</td>\n",
       "      <td>0.164300</td>\n",
       "      <td>0.128880</td>\n",
       "      <td>0.187437</td>\n",
       "      <td>0.185622</td>\n",
       "      <td>0.192903</td>\n",
       "      <td>0.222107</td>\n",
       "      <td>0.156985</td>\n",
       "      <td>0.121187</td>\n",
       "      <td>0.152023</td>\n",
       "      <td>...</td>\n",
       "      <td>0.155805</td>\n",
       "      <td>0.117830</td>\n",
       "      <td>0.134846</td>\n",
       "      <td>0.135134</td>\n",
       "      <td>0.123851</td>\n",
       "      <td>0.119748</td>\n",
       "      <td>0.097714</td>\n",
       "      <td>0.459799</td>\n",
       "      <td>0.395919</td>\n",
       "      <td>0.298760</td>\n",
       "    </tr>\n",
       "    <tr>\n",
       "      <th>min</th>\n",
       "      <td>0.000000</td>\n",
       "      <td>0.000000</td>\n",
       "      <td>0.000000</td>\n",
       "      <td>0.000000</td>\n",
       "      <td>0.000000</td>\n",
       "      <td>0.000000</td>\n",
       "      <td>0.000000</td>\n",
       "      <td>0.000000</td>\n",
       "      <td>0.000000</td>\n",
       "      <td>0.000000</td>\n",
       "      <td>...</td>\n",
       "      <td>0.000000</td>\n",
       "      <td>0.000000</td>\n",
       "      <td>0.000000</td>\n",
       "      <td>0.000000</td>\n",
       "      <td>0.000000</td>\n",
       "      <td>0.000000</td>\n",
       "      <td>0.000000</td>\n",
       "      <td>0.000000</td>\n",
       "      <td>0.000000</td>\n",
       "      <td>0.000000</td>\n",
       "    </tr>\n",
       "    <tr>\n",
       "      <th>25%</th>\n",
       "      <td>0.000000</td>\n",
       "      <td>0.000000</td>\n",
       "      <td>0.000000</td>\n",
       "      <td>0.000000</td>\n",
       "      <td>0.000000</td>\n",
       "      <td>0.000000</td>\n",
       "      <td>0.000000</td>\n",
       "      <td>0.000000</td>\n",
       "      <td>0.144537</td>\n",
       "      <td>0.500000</td>\n",
       "      <td>...</td>\n",
       "      <td>0.000000</td>\n",
       "      <td>0.000000</td>\n",
       "      <td>0.002693</td>\n",
       "      <td>0.002536</td>\n",
       "      <td>0.104543</td>\n",
       "      <td>0.057253</td>\n",
       "      <td>0.038970</td>\n",
       "      <td>0.000000</td>\n",
       "      <td>1.000000</td>\n",
       "      <td>0.000000</td>\n",
       "    </tr>\n",
       "    <tr>\n",
       "      <th>50%</th>\n",
       "      <td>0.037373</td>\n",
       "      <td>0.125000</td>\n",
       "      <td>0.004467</td>\n",
       "      <td>0.035714</td>\n",
       "      <td>0.000000</td>\n",
       "      <td>0.023708</td>\n",
       "      <td>0.032000</td>\n",
       "      <td>0.000000</td>\n",
       "      <td>0.148695</td>\n",
       "      <td>0.500000</td>\n",
       "      <td>...</td>\n",
       "      <td>0.000000</td>\n",
       "      <td>0.021886</td>\n",
       "      <td>0.009254</td>\n",
       "      <td>0.009185</td>\n",
       "      <td>0.124464</td>\n",
       "      <td>0.064127</td>\n",
       "      <td>0.093250</td>\n",
       "      <td>1.000000</td>\n",
       "      <td>1.000000</td>\n",
       "      <td>0.000000</td>\n",
       "    </tr>\n",
       "    <tr>\n",
       "      <th>75%</th>\n",
       "      <td>0.095421</td>\n",
       "      <td>0.187500</td>\n",
       "      <td>0.033956</td>\n",
       "      <td>0.178571</td>\n",
       "      <td>0.125000</td>\n",
       "      <td>0.174278</td>\n",
       "      <td>0.232000</td>\n",
       "      <td>0.000000</td>\n",
       "      <td>0.151540</td>\n",
       "      <td>0.500000</td>\n",
       "      <td>...</td>\n",
       "      <td>0.000000</td>\n",
       "      <td>0.045600</td>\n",
       "      <td>0.033379</td>\n",
       "      <td>0.033622</td>\n",
       "      <td>0.144034</td>\n",
       "      <td>0.069445</td>\n",
       "      <td>0.152401</td>\n",
       "      <td>1.000000</td>\n",
       "      <td>1.000000</td>\n",
       "      <td>0.000000</td>\n",
       "    </tr>\n",
       "    <tr>\n",
       "      <th>max</th>\n",
       "      <td>1.000000</td>\n",
       "      <td>1.000000</td>\n",
       "      <td>1.000000</td>\n",
       "      <td>1.000000</td>\n",
       "      <td>1.000000</td>\n",
       "      <td>1.000000</td>\n",
       "      <td>1.000000</td>\n",
       "      <td>1.000000</td>\n",
       "      <td>1.000000</td>\n",
       "      <td>1.000000</td>\n",
       "      <td>...</td>\n",
       "      <td>1.000000</td>\n",
       "      <td>1.000000</td>\n",
       "      <td>1.000000</td>\n",
       "      <td>1.000000</td>\n",
       "      <td>1.000000</td>\n",
       "      <td>1.000000</td>\n",
       "      <td>1.000000</td>\n",
       "      <td>1.000000</td>\n",
       "      <td>1.000000</td>\n",
       "      <td>1.000000</td>\n",
       "    </tr>\n",
       "  </tbody>\n",
       "</table>\n",
       "<p>8 rows × 34 columns</p>\n",
       "</div>"
      ],
      "text/plain": [
       "                 0             1             2             3             4   \\\n",
       "count  80013.000000  80013.000000  80013.000000  80013.000000  80013.000000   \n",
       "mean       0.078079      0.144423      0.045786      0.124818      0.098381   \n",
       "std        0.138787      0.164300      0.128880      0.187437      0.185622   \n",
       "min        0.000000      0.000000      0.000000      0.000000      0.000000   \n",
       "25%        0.000000      0.000000      0.000000      0.000000      0.000000   \n",
       "50%        0.037373      0.125000      0.004467      0.035714      0.000000   \n",
       "75%        0.095421      0.187500      0.033956      0.178571      0.125000   \n",
       "max        1.000000      1.000000      1.000000      1.000000      1.000000   \n",
       "\n",
       "                 5             6             7             8             9   \\\n",
       "count  80013.000000  80013.000000  80013.000000  80013.000000  80013.000000   \n",
       "mean       0.121184      0.150498      0.047207      0.163601      0.500273   \n",
       "std        0.192903      0.222107      0.156985      0.121187      0.152023   \n",
       "min        0.000000      0.000000      0.000000      0.000000      0.000000   \n",
       "25%        0.000000      0.000000      0.000000      0.144537      0.500000   \n",
       "50%        0.023708      0.032000      0.000000      0.148695      0.500000   \n",
       "75%        0.174278      0.232000      0.000000      0.151540      0.500000   \n",
       "max        1.000000      1.000000      1.000000      1.000000      1.000000   \n",
       "\n",
       "       ...            24            25            26            27  \\\n",
       "count  ...  80013.000000  80013.000000  80013.000000  80013.000000   \n",
       "mean   ...      0.045900      0.046546      0.050538      0.050750   \n",
       "std    ...      0.155805      0.117830      0.134846      0.135134   \n",
       "min    ...      0.000000      0.000000      0.000000      0.000000   \n",
       "25%    ...      0.000000      0.000000      0.002693      0.002536   \n",
       "50%    ...      0.000000      0.021886      0.009254      0.009185   \n",
       "75%    ...      0.000000      0.045600      0.033379      0.033622   \n",
       "max    ...      1.000000      1.000000      1.000000      1.000000   \n",
       "\n",
       "                 28            29            30            31            32  \\\n",
       "count  80013.000000  80013.000000  80013.000000  80013.000000  80013.000000   \n",
       "mean       0.146310      0.087139      0.109322      0.696437      0.805369   \n",
       "std        0.123851      0.119748      0.097714      0.459799      0.395919   \n",
       "min        0.000000      0.000000      0.000000      0.000000      0.000000   \n",
       "25%        0.104543      0.057253      0.038970      0.000000      1.000000   \n",
       "50%        0.124464      0.064127      0.093250      1.000000      1.000000   \n",
       "75%        0.144034      0.069445      0.152401      1.000000      1.000000   \n",
       "max        1.000000      1.000000      1.000000      1.000000      1.000000   \n",
       "\n",
       "                 33  \n",
       "count  80013.000000  \n",
       "mean       0.099071  \n",
       "std        0.298760  \n",
       "min        0.000000  \n",
       "25%        0.000000  \n",
       "50%        0.000000  \n",
       "75%        0.000000  \n",
       "max        1.000000  \n",
       "\n",
       "[8 rows x 34 columns]"
      ]
     },
     "execution_count": 158,
     "metadata": {},
     "output_type": "execute_result"
    }
   ],
   "source": [
    "df.describe()"
   ]
  },
  {
   "cell_type": "code",
   "execution_count": 110,
   "metadata": {},
   "outputs": [],
   "source": [
    "scaler_X_test = preprocessing.scale(X_test)"
   ]
  },
  {
   "cell_type": "code",
   "execution_count": 170,
   "metadata": {},
   "outputs": [
    {
     "name": "stdout",
     "output_type": "stream",
     "text": [
      "Accuracy: 96.77%\n"
     ]
    }
   ],
   "source": [
    "# fit model on training data\n",
    "model = XGBClassifier(learning_rate=0.01, max_depth=5, n_estimators=500, n_jobs=-1);\n",
    "model.fit(scaler_X_train, y_train) \n",
    "\n",
    "# make predictions for test data\n",
    "y_pred = model.predict(scaler_X_test)\n",
    "predictions = [round(value) for value in y_pred]\n",
    "\n",
    "# evaluate predictions\n",
    "accuracy = accuracy_score(y_test, predictions)\n",
    "print(\"Accuracy: %.2f%%\" % (accuracy * 100.0))"
   ]
  },
  {
   "cell_type": "code",
   "execution_count": 171,
   "metadata": {},
   "outputs": [
    {
     "name": "stdout",
     "output_type": "stream",
     "text": [
      "[[537171 204844]\n",
      " [  1914   7020]]\n",
      "              precision    recall  f1-score   support\n",
      "\n",
      "           0       1.00      0.72      0.84    742015\n",
      "           1       0.03      0.79      0.06      8934\n",
      "\n",
      "   micro avg       0.72      0.72      0.72    750949\n",
      "   macro avg       0.51      0.75      0.45    750949\n",
      "weighted avg       0.98      0.72      0.83    750949\n",
      "\n"
     ]
    }
   ],
   "source": [
    "y_pred_test = [1 if x > 0.05 else 0 for x in model.predict_proba(scaler_X_test)[:,1]]\n",
    "print(confusion_matrix(y_test, y_pred_test))\n",
    "print(classification_report(y_test, y_pred_test))"
   ]
  },
  {
   "cell_type": "code",
   "execution_count": 172,
   "metadata": {},
   "outputs": [
    {
     "data": {
      "image/png": "[encoded data removed]",
      "text/plain": [
       "<Figure size 432x288 with 1 Axes>"
      ]
     },
     "metadata": {
      "needs_background": "light"
     },
     "output_type": "display_data"
    }
   ],
   "source": [
    "probs1 = model.predict_proba(scaler_X_test)\n",
    "pred1 = probs1[:,1]\n",
    "fpr1, tpr1, threshold1 = metrics.roc_curve(y_test, pred1)\n",
    "roc_auc1 = metrics.auc(fpr1, tpr1)\n",
    "plt.title('Receiver Operating Characteristic');\n",
    "plt.plot(fpr1, tpr1, 'b', color = 'green',label = 'AUC = %0.2f' % roc_auc1);\n",
    "plt.legend(loc = 'lower right')\n",
    "plt.plot([0, 1], [0, 1],'r--')\n",
    "plt.xlim([0, 1])\n",
    "plt.ylim([0, 1])\n",
    "plt.ylabel('True Positive Rate')\n",
    "plt.xlabel('False Positive Rate')\n",
    "plt.show()"
   ]
  },
  {
   "cell_type": "markdown",
   "metadata": {},
   "source": [
    "---------------------------------------------------------------------"
   ]
  },
  {
   "cell_type": "markdown",
   "metadata": {},
   "source": [
    "**Model with reduced variables**"
   ]
  },
  {
   "cell_type": "code",
   "execution_count": 64,
   "metadata": {},
   "outputs": [
    {
     "data": {
      "text/plain": [
       "SelectFromModel(estimator=LogisticRegression(C=1, class_weight=None, dual=False, fit_intercept=True,\n",
       "          intercept_scaling=1, max_iter=100, multi_class='warn',\n",
       "          n_jobs=None, penalty='l1', random_state=None, solver='warn',\n",
       "          tol=0.0001, verbose=0, warm_start=False),\n",
       "        max_features=None, norm_order=1, prefit=False, threshold=None)"
      ]
     },
     "execution_count": 64,
     "metadata": {},
     "output_type": "execute_result"
    }
   ],
   "source": [
    "lasso_model = SelectFromModel(LogisticRegression(C=1, penalty='l1'))\n",
    "lasso_model.fit(X_train, y_train)"
   ]
  },
  {
   "cell_type": "code",
   "execution_count": 65,
   "metadata": {},
   "outputs": [
    {
     "data": {
      "text/plain": [
       "array([ True,  True,  True,  True,  True,  True,  True,  True,  True,\n",
       "        True,  True,  True,  True,  True,  True, False,  True, False,\n",
       "        True,  True, False, False,  True, False,  True,  True,  True,\n",
       "       False,  True,  True,  True,  True,  True,  True])"
      ]
     },
     "execution_count": 65,
     "metadata": {},
     "output_type": "execute_result"
    }
   ],
   "source": [
    "lasso_model.get_support()"
   ]
  },
  {
   "cell_type": "code",
   "execution_count": 66,
   "metadata": {},
   "outputs": [
    {
     "name": "stdout",
     "output_type": "stream",
     "text": [
      "total features: 34\n",
      "selected features: 28\n"
     ]
    }
   ],
   "source": [
    "selected_feat = X_train.columns[(lasso_model.get_support())]\n",
    "\n",
    "print('total features: {}'.format((X_train.shape[1])))\n",
    "\n",
    "print('selected features: {}'.format(len(selected_feat)))"
   ]
  },
  {
   "cell_type": "code",
   "execution_count": 67,
   "metadata": {},
   "outputs": [
    {
     "data": {
      "text/plain": [
       "((80013, 28), (750949, 28))"
      ]
     },
     "execution_count": 67,
     "metadata": {},
     "output_type": "execute_result"
    }
   ],
   "source": [
    "X_train_selected = lasso_model.transform(X_train.fillna(0))\n",
    "X_test_selected = lasso_model.transform(X_test.fillna(0))\n",
    "X_train_selected.shape, X_test_selected.shape"
   ]
  },
  {
   "cell_type": "code",
   "execution_count": 69,
   "metadata": {},
   "outputs": [
    {
     "data": {
      "text/plain": [
       "XGBClassifier(base_score=0.5, booster='gbtree', colsample_bylevel=1,\n",
       "       colsample_bynode=1, colsample_bytree=1, gamma=0, learning_rate=0.1,\n",
       "       max_delta_step=0, max_depth=3, min_child_weight=1, missing=None,\n",
       "       n_estimators=100, n_jobs=-1, nthread=None,\n",
       "       objective='binary:logistic', random_state=0, reg_alpha=0,\n",
       "       reg_lambda=1, scale_pos_weight=1, seed=None, silent=None,\n",
       "       subsample=1, verbosity=1)"
      ]
     },
     "execution_count": 69,
     "metadata": {},
     "output_type": "execute_result"
    }
   ],
   "source": [
    "# fit model on training data\n",
    "model_red_vars = XGBClassifier(n_jobs=-1);\n",
    "model_red_vars.fit(X_train_selected, y_train) "
   ]
  },
  {
   "cell_type": "markdown",
   "metadata": {},
   "source": [
    "**Out of sample**"
   ]
  },
  {
   "cell_type": "code",
   "execution_count": 74,
   "metadata": {},
   "outputs": [
    {
     "data": {
      "image/png": "[encoded data removed]",
      "text/plain": [
       "<Figure size 432x288 with 1 Axes>"
      ]
     },
     "metadata": {
      "needs_background": "light"
     },
     "output_type": "display_data"
    }
   ],
   "source": [
    "probs1 = model_red_vars.predict_proba(X_test_selected)\n",
    "pred1 = probs1[:,1]\n",
    "fpr1, tpr1, threshold1 = metrics.roc_curve(y_test, pred1)\n",
    "roc_auc1 = metrics.auc(fpr1, tpr1)\n",
    "plt.title('Receiver Operating Characteristic');\n",
    "plt.plot(fpr1, tpr1, 'b', color = 'green',label = 'AUC = %0.2f' % roc_auc1);\n",
    "plt.legend(loc = 'lower right')\n",
    "plt.plot([0, 1], [0, 1],'r--')\n",
    "plt.xlim([0, 1])\n",
    "plt.ylim([0, 1])\n",
    "plt.ylabel('True Positive Rate')\n",
    "plt.xlabel('False Positive Rate')\n",
    "plt.show()"
   ]
  },
  {
   "cell_type": "code",
   "execution_count": 75,
   "metadata": {},
   "outputs": [
    {
     "data": {
      "text/plain": [
       "array([[600208, 141807],\n",
       "       [  2393,   6541]], dtype=int64)"
      ]
     },
     "execution_count": 75,
     "metadata": {},
     "output_type": "execute_result"
    }
   ],
   "source": [
    "y_pred_test = [ 1 if x > 0.05 else 0 for x in model_red_vars.predict_proba(X_test_selected)[:,1]]\n",
    "confusion_matrix(y_test, y_pred_test)"
   ]
  },
  {
   "cell_type": "markdown",
   "metadata": {},
   "source": [
    "recall--0.73, precision--0.044"
   ]
  },
  {
   "cell_type": "code",
   "execution_count": 76,
   "metadata": {},
   "outputs": [
    {
     "name": "stdout",
     "output_type": "stream",
     "text": [
      "F1-score =  [0.         0.         0.         0.01724138 0.03949219]  Mean F1 score =  0.01134671433579722\n"
     ]
    }
   ],
   "source": [
    "# Cross validation scores\n",
    "f1_scores = cross_val_score(model_red_vars, X_test_selected, y_test, cv=5, scoring='f1')\n",
    "print(\"F1-score = \",f1_scores,\" Mean F1 score = \",np.mean(f1_scores))"
   ]
  },
  {
   "cell_type": "code",
   "execution_count": 78,
   "metadata": {},
   "outputs": [
    {
     "data": {
      "text/plain": [
       "(750949, 1)"
      ]
     },
     "execution_count": 78,
     "metadata": {},
     "output_type": "execute_result"
    }
   ],
   "source": [
    "y_test.shape"
   ]
  },
  {
   "cell_type": "markdown",
   "metadata": {},
   "source": [
    "**Precision recall curve**"
   ]
  },
  {
   "cell_type": "code",
   "execution_count": 81,
   "metadata": {},
   "outputs": [
    {
     "name": "stdout",
     "output_type": "stream",
     "text": [
      "Average precision-recall score: 0.14713800752641756\n"
     ]
    }
   ],
   "source": [
    "from sklearn.metrics import average_precision_score, auc, roc_curve, precision_recall_curve\n",
    "\n",
    "y_score = model_red_vars.predict_proba(X_test_selected)[:,-1]\n",
    "average_precision = average_precision_score(y_test, y_score)\n",
    "\n",
    "print('Average precision-recall score: {}'.format(average_precision))"
   ]
  },
  {
   "cell_type": "code",
   "execution_count": 80,
   "metadata": {},
   "outputs": [
    {
     "data": {
      "text/plain": [
       "Text(0.5, 1.0, '2-class Precision-Recall curve: AP=0.15')"
      ]
     },
     "execution_count": 80,
     "metadata": {},
     "output_type": "execute_result"
    },
    {
     "data": {
      "image/png": "[encoded data removed]",
      "text/plain": [
       "<Figure size 432x288 with 1 Axes>"
      ]
     },
     "metadata": {
      "needs_background": "light"
     },
     "output_type": "display_data"
    }
   ],
   "source": [
    "import matplotlib.pyplot as plt\n",
    "\n",
    "precision, recall, _ = precision_recall_curve(y_test, y_score)\n",
    "\n",
    "plt.step(recall, precision, color='b', alpha=0.2,\n",
    "         where='post')\n",
    "plt.fill_between(recall, precision, step='post', alpha=0.2,\n",
    "                 color='b')\n",
    "\n",
    "plt.xlabel('Recall')\n",
    "plt.ylabel('Precision')\n",
    "plt.ylim([0.0, 1.05])\n",
    "plt.xlim([0.0, 1.0])\n",
    "plt.title('2-class Precision-Recall curve: AP={0:0.2f}'.format(\n",
    "          average_precision))"
   ]
  }
 ],
 "metadata": {
  "kernelspec": {
   "display_name": "Python 3",
   "language": "python",
   "name": "python3"
  },
  "language_info": {
   "codemirror_mode": {
    "name": "ipython",
    "version": 3
   },
   "file_extension": ".py",
   "mimetype": "text/x-python",
   "name": "python",
   "nbconvert_exporter": "python",
   "pygments_lexer": "ipython3",
   "version": "3.7.3"
  },
  "toc": {
   "base_numbering": 1,
   "nav_menu": {},
   "number_sections": true,
   "sideBar": true,
   "skip_h1_title": false,
   "title_cell": "Table of Contents",
   "title_sidebar": "Contents",
   "toc_cell": true,
   "toc_position": {},
   "toc_section_display": true,
   "toc_window_display": false
  }
 },
 "nbformat": 4,
 "nbformat_minor": 2
}
